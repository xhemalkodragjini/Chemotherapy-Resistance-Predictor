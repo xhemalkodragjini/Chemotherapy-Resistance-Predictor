{
 "cells": [
  {
   "cell_type": "markdown",
   "metadata": {},
   "source": [
    "# Final Project - Integrative Data Analysis\n",
    "## Student: Xhemal Kodragjini  \n",
    "This notebook contains the code for the final project. The task is to predict the classification of chemotherapy resistance in cancer cell lines using proteomics and pathway information, comparing a multi-head attention neural network with a simple feed-forward neural network.  "
   ]
  },
  {
   "cell_type": "markdown",
   "metadata": {},
   "source": [
    "---"
   ]
  },
  {
   "cell_type": "markdown",
   "metadata": {},
   "source": [
    "### Part 0: Import necessary libraries and config parameters"
   ]
  },
  {
   "cell_type": "code",
   "execution_count": 1609,
   "metadata": {},
   "outputs": [],
   "source": [
    "import yaml\n",
    "import numpy as np\n",
    "import pandas as pd\n",
    "import seaborn as sns\n",
    "import matplotlib.pyplot as plt\n",
    "from sklearn.model_selection import train_test_split\n",
    "from sklearn.preprocessing import StandardScaler\n",
    "import pytorch_lightning as L\n",
    "import torch\n",
    "from torch.utils.data import Dataset, DataLoader\n",
    "from sklearn.metrics import f1_score, matthews_corrcoef"
   ]
  },
  {
   "cell_type": "code",
   "execution_count": 1610,
   "metadata": {},
   "outputs": [],
   "source": [
    "# Load the configuration file\n",
    "with open('config.yaml', 'r') as file:\n",
    "    config = yaml.safe_load(file)\n",
    "\n",
    "# Access the hyperparameters\n",
    "TEST_SIZE = config['TEST_SIZE']\n",
    "BATCH_SIZE = config['BATCH_SIZE']\n",
    "LEARNING_RATE = config['LEARNING_RATE']\n",
    "MAX_EPOCHS = config['MAX_EPOCHS']\n",
    "HIDDEN_DIM_1 = config['HIDDEN_DIM_1']\n",
    "HIDDEN_DIM_2 = config['HIDDEN_DIM_2']\n",
    "NUM_HEADS = config['NUM_HEADS']"
   ]
  },
  {
   "cell_type": "markdown",
   "metadata": {},
   "source": [
    "### Part 0: Load the datasets"
   ]
  },
  {
   "cell_type": "code",
   "execution_count": 1611,
   "metadata": {},
   "outputs": [],
   "source": [
    "# Load the datasets. Use index_col to set first column as index\n",
    "\n",
    "chemoresistance_df = pd.read_csv('./data/chemoresistance_labels.csv', index_col=0)\n",
    "pathways_df = pd.read_csv('./data/pathways_proteomics.csv')\n",
    "proteomics_df = pd.read_csv('./data/proteomics.csv', index_col=0)"
   ]
  },
  {
   "cell_type": "markdown",
   "metadata": {},
   "source": [
    "### Part 1: Initial Data Analysis"
   ]
  },
  {
   "cell_type": "markdown",
   "metadata": {},
   "source": [
    "This part contains 5 main steps to conduct an analysis of the three datasets, to get an overview of the data that we will deal with.\n",
    "\n",
    "**Note**: Steps were adapted from the Lecture 2 - Slide 26 of the course."
   ]
  },
  {
   "cell_type": "markdown",
   "metadata": {},
   "source": [
    "#### 1.1. Topic"
   ]
  },
  {
   "cell_type": "markdown",
   "metadata": {},
   "source": [
    "The three datasets are used for predicting the classification of chemotherapy resistance in cancer cell lines:\n",
    "- The proteomics dataset contains protein expressions for different cancer cell lines.\n",
    "- The chemoresistance dataset includes a list of cancer cell lines along with the binary information whether a particular cell line is resistant to chemotherapy.\n",
    "- The pathway-protein dataset provides information on different biological pathways and the presence of proteins in each of them."
   ]
  },
  {
   "cell_type": "markdown",
   "metadata": {},
   "source": [
    "#### 1.2. Dataset Size and Structure"
   ]
  },
  {
   "cell_type": "markdown",
   "metadata": {},
   "source": [
    "##### 1.2.1. Chemoresistance DataFrame"
   ]
  },
  {
   "cell_type": "code",
   "execution_count": 1612,
   "metadata": {},
   "outputs": [
    {
     "name": "stdout",
     "output_type": "stream",
     "text": [
      "<class 'pandas.core.frame.DataFrame'>\n",
      "Index: 1912 entries, Cell_line_1613 to Cell_line_1475\n",
      "Data columns (total 1 columns):\n",
      " #   Column                   Non-Null Count  Dtype\n",
      "---  ------                   --------------  -----\n",
      " 0   Chemotherapy_Resistance  1912 non-null   int64\n",
      "dtypes: int64(1)\n",
      "memory usage: 29.9+ KB\n",
      "None\n"
     ]
    }
   ],
   "source": [
    "# get info from dataset - features, sample size, data types\n",
    "print(chemoresistance_df.info())"
   ]
  },
  {
   "cell_type": "code",
   "execution_count": 1613,
   "metadata": {},
   "outputs": [
    {
     "data": {
      "application/vnd.microsoft.datawrangler.viewer.v0+json": {
       "columns": [
        {
         "name": "index",
         "rawType": "object",
         "type": "string"
        },
        {
         "name": "Chemotherapy_Resistance",
         "rawType": "int64",
         "type": "integer"
        }
       ],
       "conversionMethod": "pd.DataFrame",
       "ref": "6290cd1e-8fa1-48be-ad39-62eed3fd5d4b",
       "rows": [
        [
         "Cell_line_1613",
         "0"
        ],
        [
         "Cell_line_973",
         "1"
        ],
        [
         "Cell_line_577",
         "0"
        ],
        [
         "Cell_line_493",
         "0"
        ],
        [
         "Cell_line_1755",
         "0"
        ]
       ],
       "shape": {
        "columns": 1,
        "rows": 5
       }
      },
      "text/html": [
       "<div>\n",
       "<style scoped>\n",
       "    .dataframe tbody tr th:only-of-type {\n",
       "        vertical-align: middle;\n",
       "    }\n",
       "\n",
       "    .dataframe tbody tr th {\n",
       "        vertical-align: top;\n",
       "    }\n",
       "\n",
       "    .dataframe thead th {\n",
       "        text-align: right;\n",
       "    }\n",
       "</style>\n",
       "<table border=\"1\" class=\"dataframe\">\n",
       "  <thead>\n",
       "    <tr style=\"text-align: right;\">\n",
       "      <th></th>\n",
       "      <th>Chemotherapy_Resistance</th>\n",
       "    </tr>\n",
       "  </thead>\n",
       "  <tbody>\n",
       "    <tr>\n",
       "      <th>Cell_line_1613</th>\n",
       "      <td>0</td>\n",
       "    </tr>\n",
       "    <tr>\n",
       "      <th>Cell_line_973</th>\n",
       "      <td>1</td>\n",
       "    </tr>\n",
       "    <tr>\n",
       "      <th>Cell_line_577</th>\n",
       "      <td>0</td>\n",
       "    </tr>\n",
       "    <tr>\n",
       "      <th>Cell_line_493</th>\n",
       "      <td>0</td>\n",
       "    </tr>\n",
       "    <tr>\n",
       "      <th>Cell_line_1755</th>\n",
       "      <td>0</td>\n",
       "    </tr>\n",
       "  </tbody>\n",
       "</table>\n",
       "</div>"
      ],
      "text/plain": [
       "                Chemotherapy_Resistance\n",
       "Cell_line_1613                        0\n",
       "Cell_line_973                         1\n",
       "Cell_line_577                         0\n",
       "Cell_line_493                         0\n",
       "Cell_line_1755                        0"
      ]
     },
     "metadata": {},
     "output_type": "display_data"
    }
   ],
   "source": [
    "# get an overview of the data by the top rows\n",
    "display(chemoresistance_df.head())"
   ]
  },
  {
   "cell_type": "markdown",
   "metadata": {},
   "source": [
    "- The Chemoresistance dataset has the cell line as index and Chemotherapy_Resistance as feature. \n",
    "- There are 1912 samples, no null values present, and the Chemotherapy_Resistance has numerical (integer) values."
   ]
  },
  {
   "cell_type": "markdown",
   "metadata": {},
   "source": [
    "##### 1.2.2. Proteomics DataFrame"
   ]
  },
  {
   "cell_type": "code",
   "execution_count": 1614,
   "metadata": {},
   "outputs": [
    {
     "name": "stdout",
     "output_type": "stream",
     "text": [
      "Number of samples: 1889\n",
      "Number of features: 67\n",
      " \n",
      "Distribution of data types: \n",
      "float64    67\n",
      "Name: count, dtype: int64\n"
     ]
    }
   ],
   "source": [
    "# get info from dataset - features, sample size, data types\n",
    "print(f\"Number of samples: {proteomics_df.shape[0]}\")\n",
    "print(f\"Number of features: {proteomics_df.shape[1]}\\n \")\n",
    "\n",
    "print(\"Distribution of data types: \")\n",
    "print(proteomics_df.dtypes.value_counts())"
   ]
  },
  {
   "cell_type": "code",
   "execution_count": 1615,
   "metadata": {},
   "outputs": [
    {
     "data": {
      "application/vnd.microsoft.datawrangler.viewer.v0+json": {
       "columns": [
        {
         "name": "index",
         "rawType": "object",
         "type": "string"
        },
        {
         "name": "Protein_0",
         "rawType": "float64",
         "type": "float"
        },
        {
         "name": "Protein_1",
         "rawType": "float64",
         "type": "float"
        },
        {
         "name": "Protein_2",
         "rawType": "float64",
         "type": "float"
        },
        {
         "name": "Protein_3",
         "rawType": "float64",
         "type": "float"
        },
        {
         "name": "Protein_4",
         "rawType": "float64",
         "type": "float"
        },
        {
         "name": "Protein_5",
         "rawType": "float64",
         "type": "float"
        },
        {
         "name": "Protein_6",
         "rawType": "float64",
         "type": "float"
        },
        {
         "name": "Protein_7",
         "rawType": "float64",
         "type": "float"
        },
        {
         "name": "Protein_8",
         "rawType": "float64",
         "type": "float"
        },
        {
         "name": "Protein_9",
         "rawType": "float64",
         "type": "float"
        },
        {
         "name": "Protein_10",
         "rawType": "float64",
         "type": "float"
        },
        {
         "name": "Protein_11",
         "rawType": "float64",
         "type": "float"
        },
        {
         "name": "Protein_12",
         "rawType": "float64",
         "type": "float"
        },
        {
         "name": "Protein_13",
         "rawType": "float64",
         "type": "float"
        },
        {
         "name": "Protein_14",
         "rawType": "float64",
         "type": "float"
        },
        {
         "name": "Protein_15",
         "rawType": "float64",
         "type": "float"
        },
        {
         "name": "Protein_16",
         "rawType": "float64",
         "type": "float"
        },
        {
         "name": "Protein_17",
         "rawType": "float64",
         "type": "float"
        },
        {
         "name": "Protein_18",
         "rawType": "float64",
         "type": "float"
        },
        {
         "name": "Protein_19",
         "rawType": "float64",
         "type": "float"
        },
        {
         "name": "Protein_20",
         "rawType": "float64",
         "type": "float"
        },
        {
         "name": "Protein_21",
         "rawType": "float64",
         "type": "float"
        },
        {
         "name": "Protein_22",
         "rawType": "float64",
         "type": "float"
        },
        {
         "name": "Protein_23",
         "rawType": "float64",
         "type": "float"
        },
        {
         "name": "Protein_24",
         "rawType": "float64",
         "type": "float"
        },
        {
         "name": "Protein_25",
         "rawType": "float64",
         "type": "float"
        },
        {
         "name": "Protein_26",
         "rawType": "float64",
         "type": "float"
        },
        {
         "name": "Protein_27",
         "rawType": "float64",
         "type": "float"
        },
        {
         "name": "Protein_28",
         "rawType": "float64",
         "type": "float"
        },
        {
         "name": "Protein_29",
         "rawType": "float64",
         "type": "float"
        },
        {
         "name": "Protein_30",
         "rawType": "float64",
         "type": "float"
        },
        {
         "name": "Protein_31",
         "rawType": "float64",
         "type": "float"
        },
        {
         "name": "Protein_32",
         "rawType": "float64",
         "type": "float"
        },
        {
         "name": "Protein_33",
         "rawType": "float64",
         "type": "float"
        },
        {
         "name": "Protein_34",
         "rawType": "float64",
         "type": "float"
        },
        {
         "name": "Protein_35",
         "rawType": "float64",
         "type": "float"
        },
        {
         "name": "Protein_36",
         "rawType": "float64",
         "type": "float"
        },
        {
         "name": "Protein_37",
         "rawType": "float64",
         "type": "float"
        },
        {
         "name": "Protein_38",
         "rawType": "float64",
         "type": "float"
        },
        {
         "name": "Protein_39",
         "rawType": "float64",
         "type": "float"
        },
        {
         "name": "Protein_40",
         "rawType": "float64",
         "type": "float"
        },
        {
         "name": "Protein_41",
         "rawType": "float64",
         "type": "float"
        },
        {
         "name": "Protein_42",
         "rawType": "float64",
         "type": "float"
        },
        {
         "name": "Protein_43",
         "rawType": "float64",
         "type": "float"
        },
        {
         "name": "Protein_44",
         "rawType": "float64",
         "type": "float"
        },
        {
         "name": "Protein_45",
         "rawType": "float64",
         "type": "float"
        },
        {
         "name": "Protein_46",
         "rawType": "float64",
         "type": "float"
        },
        {
         "name": "Protein_47",
         "rawType": "float64",
         "type": "float"
        },
        {
         "name": "Protein_48",
         "rawType": "float64",
         "type": "float"
        },
        {
         "name": "Protein_49",
         "rawType": "float64",
         "type": "float"
        },
        {
         "name": "Protein_50",
         "rawType": "float64",
         "type": "float"
        },
        {
         "name": "Protein_51",
         "rawType": "float64",
         "type": "float"
        },
        {
         "name": "Protein_52",
         "rawType": "float64",
         "type": "float"
        },
        {
         "name": "Protein_53",
         "rawType": "float64",
         "type": "float"
        },
        {
         "name": "Protein_54",
         "rawType": "float64",
         "type": "float"
        },
        {
         "name": "Protein_55",
         "rawType": "float64",
         "type": "float"
        },
        {
         "name": "Protein_56",
         "rawType": "float64",
         "type": "float"
        },
        {
         "name": "Protein_57",
         "rawType": "float64",
         "type": "float"
        },
        {
         "name": "Protein_58",
         "rawType": "float64",
         "type": "float"
        },
        {
         "name": "Protein_59",
         "rawType": "float64",
         "type": "float"
        },
        {
         "name": "Protein_60",
         "rawType": "float64",
         "type": "float"
        },
        {
         "name": "Protein_61",
         "rawType": "float64",
         "type": "float"
        },
        {
         "name": "Protein_62",
         "rawType": "float64",
         "type": "float"
        },
        {
         "name": "Protein_63",
         "rawType": "float64",
         "type": "float"
        },
        {
         "name": "Protein_64",
         "rawType": "float64",
         "type": "float"
        },
        {
         "name": "Protein_65",
         "rawType": "float64",
         "type": "float"
        },
        {
         "name": "Protein_66",
         "rawType": "float64",
         "type": "float"
        }
       ],
       "conversionMethod": "pd.DataFrame",
       "ref": "05c3abd7-a28e-443d-96d3-d2b469973a91",
       "rows": [
        [
         "Cell_line_1479",
         "0.0385166946635094",
         "0.1853327859767716",
         "0.6961459364571962",
         "0.5066052043756202",
         "0.1451180323470994",
         "0.1532638196503328",
         "0.3973153124809555",
         "0.2708907959846838",
         "0.4643889753076611",
         "0.4515163554086787",
         "0.815566873883204",
         "0.5838745512318483",
         "0.4758959500878572",
         "0.6800473699915756",
         null,
         "0.704432929075279",
         "0.615697326880179",
         "0.1608992069004171",
         "0.1462254242897834",
         "0.6915670167052645",
         "0.1971709783714559",
         "0.9800515903407476",
         "0.6968927764881704",
         "0.5855156008766779",
         "0.6269185085102956",
         "0.3007672635260934",
         "0.3429842034424034",
         "0.3660250519355313",
         "0.1425524321940084",
         "0.2635586872165318",
         "0.8039576833440505",
         "0.5296855327434188",
         "0.6286292564904659",
         "0.6026925340847868",
         "0.9753502769138716",
         "0.784135733008791",
         "0.707746218531739",
         null,
         "0.0312824729634756",
         "0.5000846008240705",
         "0.7833855913741024",
         "0.8809448809466507",
         "0.4383815448328631",
         "0.3453833116896894",
         "0.3732271852955692",
         "0.9244698678070552",
         "1.136301522953595",
         "0.322260900528948",
         "0.2633484513921358",
         "0.2748908721223005",
         "0.5866070154109617",
         "0.2055698915198667",
         "0.4987117737452943",
         "0.4085467700514124",
         null,
         "0.7396098590505804",
         "0.4353133571608734",
         "0.1740470341950638",
         "0.6092329444230681",
         "0.6017227085124923",
         "0.7067759065437691",
         "0.5556858012590623",
         "0.4514403017046011",
         "0.3282756035613668",
         "0.5057065913675431",
         "0.3720670895794438",
         "0.3746354984542826"
        ],
        [
         "Cell_line_1313",
         "0.7393989542324941",
         "0.8481410701786426",
         "0.8165879922779908",
         "0.3670195550986715",
         "0.3504443968947033",
         "0.4881701833025468",
         "0.2493677450002355",
         "0.5080775887942367",
         "0.5306587127641027",
         "0.471021133365928",
         "0.0510082282171751",
         "0.1100012395554056",
         "0.6293891865162202",
         "0.723324911165097",
         "0.2047887824722764",
         "0.4853561482762189",
         "0.4329521946230117",
         "0.3893391360793989",
         "0.0807989445025158",
         "0.504751948444146",
         "0.3197524660426863",
         "0.270165942810668",
         "0.7093809000858879",
         null,
         "0.1830485087095266",
         "0.2233318793775878",
         "0.2441374346087896",
         "0.4294705921628284",
         null,
         "0.5714423750811415",
         "0.2281217978677105",
         "0.4006682651945519",
         "0.9970099620316784",
         "0.4315965606844772",
         "0.7014580358406148",
         "0.4921792808455633",
         "0.1292416772611033",
         "0.4732388133289419",
         "0.6172914432029628",
         "0.302192559642045",
         "0.2071602193907984",
         null,
         "0.5960291093429123",
         null,
         "0.7136058666256926",
         "0.7370440764953952",
         "0.3257980224262927",
         "0.811674223207827",
         "0.4170651528547184",
         "0.3033402714145009",
         "0.4621584865683293",
         "0.7885440254293794",
         "0.3832691355420548",
         "0.2467830162643451",
         null,
         "0.5960682323902718",
         "0.1889395273314182",
         "0.5906409479922821",
         "0.1607327363950419",
         "0.7948951884592304",
         "0.922322181486199",
         null,
         "0.711083479224398",
         "0.0437044565865318",
         "0.4186268903413155",
         "1.2419071551517835",
         "0.6597671906467857"
        ],
        [
         "Cell_line_1466",
         "0.1690431217638387",
         "0.0184341956679696",
         "0.88392210472295",
         "0.2682332967765079",
         "0.2032948176969257",
         "0.4447011077212183",
         "0.7818459231622835",
         "0.5326451193860335",
         "0.698187769833326",
         "0.3940663739145706",
         "0.83442590537524",
         "0.9577461351291164",
         "0.7720572496404742",
         "0.1264222497709636",
         "0.3656407635379111",
         "0.6211628680701797",
         "0.8250240268713889",
         null,
         "0.5399214771689957",
         "0.3745149076264856",
         "0.3156481403450292",
         "0.7578347755925892",
         "0.5164470871185591",
         "1.1423279025224469",
         "0.6321337441187311",
         null,
         "0.1503516907622625",
         "0.1941233281383712",
         "0.0869936561778305",
         "0.6659290749511273",
         "0.5397724176191436",
         "0.2567941252171579",
         "0.0597979820456922",
         "0.3513841468617927",
         "0.3464171652059683",
         "0.3704615154490407",
         "0.6579710138440368",
         "0.4843746518028204",
         null,
         "0.2113775921718629",
         null,
         "0.8661232761181709",
         "0.753264481646515",
         "0.5731035639905728",
         "0.234143174460755",
         "0.7095130457703976",
         "0.7725782408983363",
         "0.6462998996368714",
         "0.0017468761600042",
         null,
         "0.2297131721352879",
         "0.6398188184398217",
         "0.7144750027261519",
         "0.4001372112363014",
         "0.3577454222765328",
         "0.0186181141901929",
         "0.0255855815100919",
         "0.560849881708876",
         "0.063920940938267",
         "0.8899953819883318",
         "0.6696530129941536",
         "0.7858798952073915",
         "0.6210897954872823",
         "0.4799432629330833",
         "0.0544968503502187",
         "0.312457036189732",
         null
        ],
        [
         "Cell_line_1561",
         "0.5041860351791221",
         "0.5667541737647906",
         "0.7716435334737796",
         null,
         "0.4890461419003296",
         null,
         "0.8802035064109694",
         "0.3627712469083849",
         null,
         "0.663094789901898",
         "0.8674772442673979",
         "0.4700315242770387",
         "0.629864419831877",
         "0.2601381941215462",
         "0.4112998300047847",
         null,
         "0.4567463094828563",
         "0.904530785391065",
         "0.068068091794685",
         "0.5552547182854574",
         "0.83841794265506",
         null,
         "0.5132300519404998",
         "0.1190244284681518",
         "0.4265026949400169",
         "0.2779075161878815",
         "0.4864770203153002",
         "1.088460315603979",
         "0.5183335793824417",
         "0.6817053335187726",
         "0.4612044628915682",
         "0.3025393013809571",
         "0.1670699995460626",
         null,
         "1.0866747143492277",
         "0.5271313396498029",
         "0.2624500205025467",
         "0.9720237082345548",
         "0.2159217786679362",
         "0.9542247523326876",
         "0.0619933141018965",
         "0.4162529068473227",
         "0.56377297988436",
         "0.6602666791816576",
         "0.3235981113312414",
         "0.2332957477704711",
         "0.7359537066716599",
         "0.551651164531094",
         null,
         null,
         "0.2359046550824259",
         "0.3314153267020705",
         null,
         "0.2753877698405864",
         "0.6193858623627004",
         "1.0383056417833982",
         "0.7353971571872442",
         null,
         "0.2903454449571733",
         "0.5476151106039104",
         "0.6973761777782674",
         "0.6925959362123112",
         "0.6135025390439555",
         "0.3587512559274229",
         "0.6017833802985331",
         "0.5276452356381889",
         "0.74786738549726"
        ],
        [
         "Cell_line_272",
         "0.3283869745314297",
         "0.6899072897742745",
         "0.5764048988871024",
         "0.4331384501479025",
         "0.032261334838124",
         "0.2856803142768818",
         null,
         "0.3687413129515924",
         "0.1421293460077998",
         "0.6127678241043872",
         "0.7335880468495992",
         "0.814755177215176",
         "0.3039911724338144",
         "0.6016600472570343",
         "0.617491817045718",
         "0.6701677329551492",
         "0.4922565004501382",
         "0.532188856519518",
         "0.7094034023318156",
         "0.3587276713788688",
         "0.5848797430173622",
         "0.277851516996156",
         "0.0651441493858318",
         "0.4860029141970742",
         "0.5453888158900373",
         "0.5631529971101895",
         "0.5481970478973828",
         "0.1970599730515154",
         "0.3475288780586569",
         "0.738825685271437",
         "0.2824462057001324",
         null,
         "0.8449071800110022",
         null,
         "0.6718107802652943",
         "0.7188537371483221",
         "0.160999557166469",
         "0.7062564491334135",
         "0.8420654279170467",
         "0.24762407573163",
         "0.8940528023539697",
         "0.4553976377777675",
         "0.2292454652959714",
         "0.0544100359867472",
         "0.2730823897820188",
         "1.070497030567279",
         "0.3799638752019134",
         "0.4980253828990637",
         "0.5423356015898955",
         "0.7614329254594276",
         "0.4621977147110663",
         "0.2736030451931129",
         "0.7686189977727811",
         "0.172798536618694",
         "0.9129090299931",
         "0.320988123517515",
         "0.0443905027548942",
         "0.7472706802637267",
         "0.2707830740500576",
         "0.3463722437405257",
         "0.906708089057812",
         "0.7315350020223428",
         "0.6180644447954385",
         "0.2532035416473057",
         "0.8680460773861767",
         "0.607249772642863",
         "0.2464232619520816"
        ]
       ],
       "shape": {
        "columns": 67,
        "rows": 5
       }
      },
      "text/html": [
       "<div>\n",
       "<style scoped>\n",
       "    .dataframe tbody tr th:only-of-type {\n",
       "        vertical-align: middle;\n",
       "    }\n",
       "\n",
       "    .dataframe tbody tr th {\n",
       "        vertical-align: top;\n",
       "    }\n",
       "\n",
       "    .dataframe thead th {\n",
       "        text-align: right;\n",
       "    }\n",
       "</style>\n",
       "<table border=\"1\" class=\"dataframe\">\n",
       "  <thead>\n",
       "    <tr style=\"text-align: right;\">\n",
       "      <th></th>\n",
       "      <th>Protein_0</th>\n",
       "      <th>Protein_1</th>\n",
       "      <th>Protein_2</th>\n",
       "      <th>Protein_3</th>\n",
       "      <th>Protein_4</th>\n",
       "      <th>Protein_5</th>\n",
       "      <th>Protein_6</th>\n",
       "      <th>Protein_7</th>\n",
       "      <th>Protein_8</th>\n",
       "      <th>Protein_9</th>\n",
       "      <th>...</th>\n",
       "      <th>Protein_57</th>\n",
       "      <th>Protein_58</th>\n",
       "      <th>Protein_59</th>\n",
       "      <th>Protein_60</th>\n",
       "      <th>Protein_61</th>\n",
       "      <th>Protein_62</th>\n",
       "      <th>Protein_63</th>\n",
       "      <th>Protein_64</th>\n",
       "      <th>Protein_65</th>\n",
       "      <th>Protein_66</th>\n",
       "    </tr>\n",
       "  </thead>\n",
       "  <tbody>\n",
       "    <tr>\n",
       "      <th>Cell_line_1479</th>\n",
       "      <td>0.038517</td>\n",
       "      <td>0.185333</td>\n",
       "      <td>0.696146</td>\n",
       "      <td>0.506605</td>\n",
       "      <td>0.145118</td>\n",
       "      <td>0.153264</td>\n",
       "      <td>0.397315</td>\n",
       "      <td>0.270891</td>\n",
       "      <td>0.464389</td>\n",
       "      <td>0.451516</td>\n",
       "      <td>...</td>\n",
       "      <td>0.174047</td>\n",
       "      <td>0.609233</td>\n",
       "      <td>0.601723</td>\n",
       "      <td>0.706776</td>\n",
       "      <td>0.555686</td>\n",
       "      <td>0.451440</td>\n",
       "      <td>0.328276</td>\n",
       "      <td>0.505707</td>\n",
       "      <td>0.372067</td>\n",
       "      <td>0.374635</td>\n",
       "    </tr>\n",
       "    <tr>\n",
       "      <th>Cell_line_1313</th>\n",
       "      <td>0.739399</td>\n",
       "      <td>0.848141</td>\n",
       "      <td>0.816588</td>\n",
       "      <td>0.367020</td>\n",
       "      <td>0.350444</td>\n",
       "      <td>0.488170</td>\n",
       "      <td>0.249368</td>\n",
       "      <td>0.508078</td>\n",
       "      <td>0.530659</td>\n",
       "      <td>0.471021</td>\n",
       "      <td>...</td>\n",
       "      <td>0.590641</td>\n",
       "      <td>0.160733</td>\n",
       "      <td>0.794895</td>\n",
       "      <td>0.922322</td>\n",
       "      <td>NaN</td>\n",
       "      <td>0.711083</td>\n",
       "      <td>0.043704</td>\n",
       "      <td>0.418627</td>\n",
       "      <td>1.241907</td>\n",
       "      <td>0.659767</td>\n",
       "    </tr>\n",
       "    <tr>\n",
       "      <th>Cell_line_1466</th>\n",
       "      <td>0.169043</td>\n",
       "      <td>0.018434</td>\n",
       "      <td>0.883922</td>\n",
       "      <td>0.268233</td>\n",
       "      <td>0.203295</td>\n",
       "      <td>0.444701</td>\n",
       "      <td>0.781846</td>\n",
       "      <td>0.532645</td>\n",
       "      <td>0.698188</td>\n",
       "      <td>0.394066</td>\n",
       "      <td>...</td>\n",
       "      <td>0.560850</td>\n",
       "      <td>0.063921</td>\n",
       "      <td>0.889995</td>\n",
       "      <td>0.669653</td>\n",
       "      <td>0.785880</td>\n",
       "      <td>0.621090</td>\n",
       "      <td>0.479943</td>\n",
       "      <td>0.054497</td>\n",
       "      <td>0.312457</td>\n",
       "      <td>NaN</td>\n",
       "    </tr>\n",
       "    <tr>\n",
       "      <th>Cell_line_1561</th>\n",
       "      <td>0.504186</td>\n",
       "      <td>0.566754</td>\n",
       "      <td>0.771644</td>\n",
       "      <td>NaN</td>\n",
       "      <td>0.489046</td>\n",
       "      <td>NaN</td>\n",
       "      <td>0.880204</td>\n",
       "      <td>0.362771</td>\n",
       "      <td>NaN</td>\n",
       "      <td>0.663095</td>\n",
       "      <td>...</td>\n",
       "      <td>NaN</td>\n",
       "      <td>0.290345</td>\n",
       "      <td>0.547615</td>\n",
       "      <td>0.697376</td>\n",
       "      <td>0.692596</td>\n",
       "      <td>0.613503</td>\n",
       "      <td>0.358751</td>\n",
       "      <td>0.601783</td>\n",
       "      <td>0.527645</td>\n",
       "      <td>0.747867</td>\n",
       "    </tr>\n",
       "    <tr>\n",
       "      <th>Cell_line_272</th>\n",
       "      <td>0.328387</td>\n",
       "      <td>0.689907</td>\n",
       "      <td>0.576405</td>\n",
       "      <td>0.433138</td>\n",
       "      <td>0.032261</td>\n",
       "      <td>0.285680</td>\n",
       "      <td>NaN</td>\n",
       "      <td>0.368741</td>\n",
       "      <td>0.142129</td>\n",
       "      <td>0.612768</td>\n",
       "      <td>...</td>\n",
       "      <td>0.747271</td>\n",
       "      <td>0.270783</td>\n",
       "      <td>0.346372</td>\n",
       "      <td>0.906708</td>\n",
       "      <td>0.731535</td>\n",
       "      <td>0.618064</td>\n",
       "      <td>0.253204</td>\n",
       "      <td>0.868046</td>\n",
       "      <td>0.607250</td>\n",
       "      <td>0.246423</td>\n",
       "    </tr>\n",
       "  </tbody>\n",
       "</table>\n",
       "<p>5 rows × 67 columns</p>\n",
       "</div>"
      ],
      "text/plain": [
       "                Protein_0  Protein_1  Protein_2  Protein_3  Protein_4  \\\n",
       "Cell_line_1479   0.038517   0.185333   0.696146   0.506605   0.145118   \n",
       "Cell_line_1313   0.739399   0.848141   0.816588   0.367020   0.350444   \n",
       "Cell_line_1466   0.169043   0.018434   0.883922   0.268233   0.203295   \n",
       "Cell_line_1561   0.504186   0.566754   0.771644        NaN   0.489046   \n",
       "Cell_line_272    0.328387   0.689907   0.576405   0.433138   0.032261   \n",
       "\n",
       "                Protein_5  Protein_6  Protein_7  Protein_8  Protein_9  ...  \\\n",
       "Cell_line_1479   0.153264   0.397315   0.270891   0.464389   0.451516  ...   \n",
       "Cell_line_1313   0.488170   0.249368   0.508078   0.530659   0.471021  ...   \n",
       "Cell_line_1466   0.444701   0.781846   0.532645   0.698188   0.394066  ...   \n",
       "Cell_line_1561        NaN   0.880204   0.362771        NaN   0.663095  ...   \n",
       "Cell_line_272    0.285680        NaN   0.368741   0.142129   0.612768  ...   \n",
       "\n",
       "                Protein_57  Protein_58  Protein_59  Protein_60  Protein_61  \\\n",
       "Cell_line_1479    0.174047    0.609233    0.601723    0.706776    0.555686   \n",
       "Cell_line_1313    0.590641    0.160733    0.794895    0.922322         NaN   \n",
       "Cell_line_1466    0.560850    0.063921    0.889995    0.669653    0.785880   \n",
       "Cell_line_1561         NaN    0.290345    0.547615    0.697376    0.692596   \n",
       "Cell_line_272     0.747271    0.270783    0.346372    0.906708    0.731535   \n",
       "\n",
       "                Protein_62  Protein_63  Protein_64  Protein_65  Protein_66  \n",
       "Cell_line_1479    0.451440    0.328276    0.505707    0.372067    0.374635  \n",
       "Cell_line_1313    0.711083    0.043704    0.418627    1.241907    0.659767  \n",
       "Cell_line_1466    0.621090    0.479943    0.054497    0.312457         NaN  \n",
       "Cell_line_1561    0.613503    0.358751    0.601783    0.527645    0.747867  \n",
       "Cell_line_272     0.618064    0.253204    0.868046    0.607250    0.246423  \n",
       "\n",
       "[5 rows x 67 columns]"
      ]
     },
     "metadata": {},
     "output_type": "display_data"
    }
   ],
   "source": [
    "display(proteomics_df.head())"
   ]
  },
  {
   "cell_type": "markdown",
   "metadata": {},
   "source": [
    "- Since there are many columns (67), the printing is different here.\n",
    "- There are 1889 samples, each containing 67 features. All features are of type float number."
   ]
  },
  {
   "cell_type": "markdown",
   "metadata": {},
   "source": [
    "##### 1.2.3. Pathways-Proteomics DataFrame"
   ]
  },
  {
   "cell_type": "code",
   "execution_count": 1616,
   "metadata": {},
   "outputs": [
    {
     "name": "stdout",
     "output_type": "stream",
     "text": [
      "<class 'pandas.core.frame.DataFrame'>\n",
      "RangeIndex: 207 entries, 0 to 206\n",
      "Data columns (total 2 columns):\n",
      " #   Column   Non-Null Count  Dtype \n",
      "---  ------   --------------  ----- \n",
      " 0   Pathway  207 non-null    object\n",
      " 1   Protein  207 non-null    object\n",
      "dtypes: object(2)\n",
      "memory usage: 3.4+ KB\n",
      "None\n"
     ]
    }
   ],
   "source": [
    "print(pathways_df.info())"
   ]
  },
  {
   "cell_type": "code",
   "execution_count": 1617,
   "metadata": {},
   "outputs": [
    {
     "data": {
      "application/vnd.microsoft.datawrangler.viewer.v0+json": {
       "columns": [
        {
         "name": "index",
         "rawType": "int64",
         "type": "integer"
        },
        {
         "name": "Pathway",
         "rawType": "object",
         "type": "string"
        },
        {
         "name": "Protein",
         "rawType": "object",
         "type": "string"
        }
       ],
       "conversionMethod": "pd.DataFrame",
       "ref": "4be8cd56-7de1-4941-abf8-e29a298cbbb5",
       "rows": [
        [
         "0",
         "Pathway_0",
         "Protein_7"
        ],
        [
         "1",
         "Pathway_1",
         "Protein_7"
        ],
        [
         "2",
         "Pathway_2",
         "Protein_28"
        ],
        [
         "3",
         "Pathway_3",
         "Protein_28"
        ],
        [
         "4",
         "Pathway_4",
         "Protein_20"
        ]
       ],
       "shape": {
        "columns": 2,
        "rows": 5
       }
      },
      "text/html": [
       "<div>\n",
       "<style scoped>\n",
       "    .dataframe tbody tr th:only-of-type {\n",
       "        vertical-align: middle;\n",
       "    }\n",
       "\n",
       "    .dataframe tbody tr th {\n",
       "        vertical-align: top;\n",
       "    }\n",
       "\n",
       "    .dataframe thead th {\n",
       "        text-align: right;\n",
       "    }\n",
       "</style>\n",
       "<table border=\"1\" class=\"dataframe\">\n",
       "  <thead>\n",
       "    <tr style=\"text-align: right;\">\n",
       "      <th></th>\n",
       "      <th>Pathway</th>\n",
       "      <th>Protein</th>\n",
       "    </tr>\n",
       "  </thead>\n",
       "  <tbody>\n",
       "    <tr>\n",
       "      <th>0</th>\n",
       "      <td>Pathway_0</td>\n",
       "      <td>Protein_7</td>\n",
       "    </tr>\n",
       "    <tr>\n",
       "      <th>1</th>\n",
       "      <td>Pathway_1</td>\n",
       "      <td>Protein_7</td>\n",
       "    </tr>\n",
       "    <tr>\n",
       "      <th>2</th>\n",
       "      <td>Pathway_2</td>\n",
       "      <td>Protein_28</td>\n",
       "    </tr>\n",
       "    <tr>\n",
       "      <th>3</th>\n",
       "      <td>Pathway_3</td>\n",
       "      <td>Protein_28</td>\n",
       "    </tr>\n",
       "    <tr>\n",
       "      <th>4</th>\n",
       "      <td>Pathway_4</td>\n",
       "      <td>Protein_20</td>\n",
       "    </tr>\n",
       "  </tbody>\n",
       "</table>\n",
       "</div>"
      ],
      "text/plain": [
       "     Pathway     Protein\n",
       "0  Pathway_0   Protein_7\n",
       "1  Pathway_1   Protein_7\n",
       "2  Pathway_2  Protein_28\n",
       "3  Pathway_3  Protein_28\n",
       "4  Pathway_4  Protein_20"
      ]
     },
     "metadata": {},
     "output_type": "display_data"
    }
   ],
   "source": [
    "display(pathways_df.head())"
   ]
  },
  {
   "cell_type": "markdown",
   "metadata": {},
   "source": [
    "- The pathways dataset contains 207 entries, and 2 features.\n",
    "- Both the pathway and the protein features are of type object, i.e. string in this case."
   ]
  },
  {
   "cell_type": "markdown",
   "metadata": {},
   "source": [
    "#### 1.3. Handling Missing Values"
   ]
  },
  {
   "cell_type": "markdown",
   "metadata": {},
   "source": [
    "From running the info() function on the chemoresistance and the pathway datasets, it was found out that there are no missing values. Thus, the proteomics dataset will be checked for missing values."
   ]
  },
  {
   "cell_type": "code",
   "execution_count": 1618,
   "metadata": {},
   "outputs": [
    {
     "name": "stdout",
     "output_type": "stream",
     "text": [
      "There are 8875 missing values.\n",
      "There are 0 negative/zero values.\n"
     ]
    }
   ],
   "source": [
    "# check if there is any null value in the df\n",
    "print(f\"There are {proteomics_df.isnull().sum().sum()} missing values.\")\n",
    "\n",
    "# check if there is any <= 0 value, to decide for the imputation value\n",
    "print(f\"There are {(proteomics_df <= 0).sum().sum()} negative/zero values.\")"
   ]
  },
  {
   "cell_type": "markdown",
   "metadata": {},
   "source": [
    "There is no negative or 0 value in this dataset. Thus, we will replace the missing values with 0. This would be relevant in our context, as 0 would indicate that the protein is not present in the specific cell line."
   ]
  },
  {
   "cell_type": "code",
   "execution_count": 1619,
   "metadata": {},
   "outputs": [
    {
     "data": {
      "text/plain": [
       "False"
      ]
     },
     "execution_count": 1619,
     "metadata": {},
     "output_type": "execute_result"
    }
   ],
   "source": [
    "proteomics_df = proteomics_df.fillna(0)\n",
    "\n",
    "# double check if there are still any missing values \n",
    "proteomics_df.isnull().values.any()"
   ]
  },
  {
   "cell_type": "markdown",
   "metadata": {},
   "source": [
    "Missing values are handled. Next step is visualization of the features."
   ]
  },
  {
   "cell_type": "markdown",
   "metadata": {},
   "source": [
    "#### 1.4. Visualization"
   ]
  },
  {
   "cell_type": "code",
   "execution_count": 1620,
   "metadata": {},
   "outputs": [
    {
     "data": {
      "image/png": "[encoded data removed]",
      "text/plain": [
       "<Figure size 600x600 with 1 Axes>"
      ]
     },
     "metadata": {},
     "output_type": "display_data"
    }
   ],
   "source": [
    "# Visualize the distribution of chemotherapy resistance \n",
    "\n",
    "# get counts of values for each of the categories from chemoresistance df\n",
    "resistance_counts = chemoresistance_df[\"Chemotherapy_Resistance\"].value_counts()\n",
    "\n",
    "# create figure and plot the piechart\n",
    "sns.set_style(\"whitegrid\")\n",
    "plt.figure(figsize=(6,6))\n",
    "plt.pie(resistance_counts, labels=[\"Not resistant\", \"Resistant\"], autopct=\"%1.1f%%\", colors=sns.color_palette(\"Set2\"))\n",
    "plt.title(\"Distribution of chemotherapy resistance\")\n",
    "plt.savefig(\"./images/chemotherapy_resistance_distribution.png\") # save plot as image for later use in the presentation\n",
    "plt.show()"
   ]
  },
  {
   "cell_type": "code",
   "execution_count": 1621,
   "metadata": {},
   "outputs": [
    {
     "data": {
      "image/png": "[encoded data removed]",
      "text/plain": [
       "<Figure size 1400x800 with 1 Axes>"
      ]
     },
     "metadata": {},
     "output_type": "display_data"
    }
   ],
   "source": [
    "# Count the number of pathways associated with each protein\n",
    "protein_counts = pathways_df[\"Protein\"].value_counts()\n",
    "\n",
    "# Bar chart for protein counts\n",
    "plt.figure(figsize=(14,8))\n",
    "sns.barplot(x=protein_counts.index, hue=protein_counts.index, y=protein_counts.values, palette=\"Set3\")\n",
    "plt.title(\"Number of Pathways Associated with Each Protein\")\n",
    "plt.xlabel(\"Protein\")\n",
    "plt.ylabel(\"Number of Pathways\")\n",
    "plt.xticks(rotation=90)\n",
    "plt.savefig(\"./images/pathways_protein_association.png\") # save plot as image for later use in the presentation\n",
    "plt.show()"
   ]
  },
  {
   "cell_type": "code",
   "execution_count": 1622,
   "metadata": {},
   "outputs": [
    {
     "data": {
      "image/png": "[encoded data removed]",
      "text/plain": [
       "<Figure size 1400x800 with 1 Axes>"
      ]
     },
     "metadata": {},
     "output_type": "display_data"
    }
   ],
   "source": [
    "# Box plot for protein expression levels\n",
    "plt.figure(figsize=(14,8))\n",
    "sns.boxplot(data=proteomics_df, palette=\"Set3\")\n",
    "plt.title(\"Distribution of Protein Expression Levels\")\n",
    "plt.xlabel(\"Proteins\")\n",
    "plt.ylabel(\"Expression Levels\")\n",
    "plt.xticks(rotation=90)\n",
    "plt.savefig(\"./images/protein_expression_distribution.png\") # save plot as image for later use in the presentation\n",
    "plt.show()"
   ]
  },
  {
   "cell_type": "markdown",
   "metadata": {},
   "source": [
    "### Part 2: Data Preparation"
   ]
  },
  {
   "cell_type": "markdown",
   "metadata": {},
   "source": [
    "#### 2.1. Data for the Attention network"
   ]
  },
  {
   "cell_type": "markdown",
   "metadata": {},
   "source": [
    "- We need to transform the data into the required format: [samples, pathways, features in pathways]."
   ]
  },
  {
   "cell_type": "code",
   "execution_count": 1623,
   "metadata": {},
   "outputs": [],
   "source": [
    "# Create a dictionary mapping pathways to corresponding proteins\n",
    "pathway_to_proteins = pathways_df.groupby('Pathway')['Protein'].apply(list).to_dict()\n",
    "\n",
    "# Aggregate protein expression data by pathways - add the chemoresistance for later\n",
    "attention_network_dataset = [\n",
    "    [proteomics_df.loc[cell_line, proteins].values for proteins in pathway_to_proteins.values()]\n",
    "    for cell_line in proteomics_df.index\n",
    "]\n",
    "\n",
    "# Convert to numpy array\n",
    "attention_network_dataset = np.array(attention_network_dataset)"
   ]
  },
  {
   "cell_type": "code",
   "execution_count": 1624,
   "metadata": {},
   "outputs": [
    {
     "name": "stdout",
     "output_type": "stream",
     "text": [
      "Shape of the transformed dataset: (1889, 9, 23)\n"
     ]
    }
   ],
   "source": [
    "print(f\"Shape of the transformed dataset: {attention_network_dataset.shape}\")"
   ]
  },
  {
   "cell_type": "code",
   "execution_count": 1625,
   "metadata": {},
   "outputs": [
    {
     "data": {
      "text/plain": [
       "array([0.2708908 , 0.14255243, 0.92446987, 1.13630152, 0.45151636,\n",
       "       0.69156702, 0.14511803, 0.78338559, 0.50570659, 0.80395768,\n",
       "       0.60172271, 0.70774622, 0.30076726, 0.        , 0.15326382,\n",
       "       0.47589595, 0.4514403 , 0.26334845, 0.03851669, 0.61569733,\n",
       "       0.88094488, 0.5556858 , 0.97535028])"
      ]
     },
     "execution_count": 1625,
     "metadata": {},
     "output_type": "execute_result"
    }
   ],
   "source": [
    "# get overview of the features of sample 1, pathway 1\n",
    "attention_network_dataset[0][0]"
   ]
  },
  {
   "cell_type": "markdown",
   "metadata": {},
   "source": [
    "#### 2.2. Data for the Standard Neural Network"
   ]
  },
  {
   "cell_type": "markdown",
   "metadata": {},
   "source": [
    "- The data used for the standard network should be reduced to samples with proteins in any pathway.\n",
    "- We need to filter the dataset based on proteins present in all pathways."
   ]
  },
  {
   "cell_type": "code",
   "execution_count": 1626,
   "metadata": {},
   "outputs": [
    {
     "name": "stdout",
     "output_type": "stream",
     "text": [
      "There are 54 unique proteins.\n"
     ]
    }
   ],
   "source": [
    "unique_proteins = pathways_df[\"Protein\"].unique()\n",
    "print(f\"There are {len(unique_proteins)} unique proteins.\")"
   ]
  },
  {
   "cell_type": "code",
   "execution_count": 1627,
   "metadata": {},
   "outputs": [
    {
     "name": "stdout",
     "output_type": "stream",
     "text": [
      "Shape of the transformed dataset: (1889, 54)\n"
     ]
    }
   ],
   "source": [
    "standard_network_dataset = np.array(proteomics_df[unique_proteins])\n",
    "print(f\"Shape of the transformed dataset: {standard_network_dataset.shape}\")"
   ]
  },
  {
   "cell_type": "code",
   "execution_count": 1628,
   "metadata": {},
   "outputs": [
    {
     "data": {
      "text/plain": [
       "array([0.2708908 , 0.14255243, 0.19717098, 0.60923294, 0.70677591,\n",
       "       0.49871177, 0.03128247, 0.92446987, 0.73960986, 0.58660702,\n",
       "       0.45151636, 1.13630152, 0.18533279, 0.5855156 , 0.78338559,\n",
       "       0.43531336, 0.14511803, 0.69156702, 0.46438898, 0.14622542,\n",
       "       0.17404703, 0.70443293, 0.50570659, 0.37322719, 0.80395768,\n",
       "       0.52968553, 0.60172271, 0.26355869, 0.30076726, 0.62691851,\n",
       "       0.5066052 , 0.70774622, 0.3282756 , 0.81556687, 0.15326382,\n",
       "       0.        , 0.        , 0.47589595, 0.4514403 , 0.36602505,\n",
       "       0.27489087, 0.16089921, 0.34538331, 0.26334845, 0.39731531,\n",
       "       0.3429842 , 0.60269253, 0.68004737, 0.03851669, 0.61569733,\n",
       "       0.88094488, 0.40854677, 0.5556858 , 0.97535028])"
      ]
     },
     "execution_count": 1628,
     "metadata": {},
     "output_type": "execute_result"
    }
   ],
   "source": [
    "# overview of a single sample\n",
    "standard_network_dataset[0]"
   ]
  },
  {
   "cell_type": "markdown",
   "metadata": {},
   "source": [
    "#### 2.3. Creation of DataLoaders"
   ]
  },
  {
   "cell_type": "code",
   "execution_count": 1629,
   "metadata": {},
   "outputs": [],
   "source": [
    "# prepare the dataset class for the DataLoader\n",
    "class CustomDataset(Dataset):\n",
    "    def __init__(self, X, y):\n",
    "        self.X = X\n",
    "        self.y = y\n",
    "\n",
    "    def __len__(self):\n",
    "        return self.X.shape[0] # length determined by number of instances\n",
    "\n",
    "    def __getitem__(self, idx):\n",
    "        features = torch.tensor(self.X[idx], dtype=torch.float32) # convert to torch of type float\n",
    "        target = torch.tensor(self.y[idx], dtype=torch.float32)\n",
    "        return features, target"
   ]
  },
  {
   "cell_type": "code",
   "execution_count": 1630,
   "metadata": {},
   "outputs": [],
   "source": [
    "def prep_data_for_model(X, y, BATCH_SIZE, TEST_SIZE):\n",
    "    \n",
    "    # perform train_test_split to get training and test sets (70/30)\n",
    "    X_train, X_test, y_train, y_test = train_test_split(X,y, test_size=TEST_SIZE, random_state=42)\n",
    "\n",
    "    # data scaling\n",
    "\n",
    "    scaler = StandardScaler()\n",
    "\n",
    "    # scaling will be different if attention data\n",
    "    if len(X.shape) == 3:\n",
    "        num_features = X_train.shape[-1]\n",
    "        X_train_reshaped = X_train.reshape(-1, num_features)\n",
    "        X_train_normalized = scaler.fit_transform(X_train_reshaped)\n",
    "        X_train = X_train_normalized.reshape(X_train.shape)\n",
    "        \n",
    "        X_test_reshaped = X_test.reshape(-1, num_features)\n",
    "        X_test_normalized = scaler.transform(X_test_reshaped)\n",
    "        X_test = X_test_normalized.reshape(X_test.shape)\n",
    "\n",
    "    else:\n",
    "        X_train = scaler.fit_transform(X_train)\n",
    "        X_test = scaler.transform(X_test)\n",
    "\n",
    "    # TRAIN DATA\n",
    "    # create dataset\n",
    "    train_dataset = CustomDataset(X_train, y_train)\n",
    "    # create dataloader\n",
    "    train_loader = DataLoader(train_dataset, batch_size=BATCH_SIZE, shuffle=True)\n",
    "\n",
    "    # TEST DATA\n",
    "    # convert array to tensor\n",
    "    x_test_tensor = torch.tensor(X_test, dtype=torch.float32)\n",
    "\n",
    "    return train_loader, x_test_tensor, y_test"
   ]
  },
  {
   "cell_type": "code",
   "execution_count": 1631,
   "metadata": {},
   "outputs": [],
   "source": [
    "# split the attention-network dataset into training and test sets\n",
    "target = chemoresistance_df.loc[proteomics_df.index.values][\"Chemotherapy_Resistance\"].values\n",
    "attention_train_loader, attention_x_test, attention_y_test = prep_data_for_model(attention_network_dataset, target, BATCH_SIZE=BATCH_SIZE, TEST_SIZE=TEST_SIZE)"
   ]
  },
  {
   "cell_type": "code",
   "execution_count": 1632,
   "metadata": {},
   "outputs": [
    {
     "name": "stdout",
     "output_type": "stream",
     "text": [
      "Size of the training set for the attention network: 1511\n",
      "Size of the test set: 378\n"
     ]
    }
   ],
   "source": [
    "print(f\"Size of the training set for the attention network: {len(attention_train_loader.sampler)}\")\n",
    "print(f\"Size of the test set: {attention_x_test.shape[0]}\")"
   ]
  },
  {
   "cell_type": "code",
   "execution_count": 1633,
   "metadata": {},
   "outputs": [
    {
     "data": {
      "text/plain": [
       "torch.Size([378, 9, 23])"
      ]
     },
     "execution_count": 1633,
     "metadata": {},
     "output_type": "execute_result"
    }
   ],
   "source": [
    "attention_x_test.shape"
   ]
  },
  {
   "cell_type": "code",
   "execution_count": 1634,
   "metadata": {},
   "outputs": [],
   "source": [
    "# split the standard-network dataset into training and test sets\n",
    "standard_train_loader, standard_x_test, standard_y_test = prep_data_for_model(standard_network_dataset, target, BATCH_SIZE=BATCH_SIZE, TEST_SIZE=TEST_SIZE)"
   ]
  },
  {
   "cell_type": "code",
   "execution_count": 1635,
   "metadata": {},
   "outputs": [
    {
     "name": "stdout",
     "output_type": "stream",
     "text": [
      "Size of the training set for the standard network: 1511\n",
      "Size of the test set: 378\n"
     ]
    }
   ],
   "source": [
    "print(f\"Size of the training set for the standard network: {len(standard_train_loader.sampler)}\")\n",
    "print(f\"Size of the test set: {standard_x_test.shape[0]}\")"
   ]
  },
  {
   "cell_type": "markdown",
   "metadata": {},
   "source": [
    "### Part 3: Networks Classes"
   ]
  },
  {
   "cell_type": "markdown",
   "metadata": {},
   "source": [
    "#### 3.1. MultiHead Attention Class"
   ]
  },
  {
   "cell_type": "code",
   "execution_count": 1636,
   "metadata": {},
   "outputs": [],
   "source": [
    "# create class for the model using LightningModule\n",
    "class MultiHeadAttentionModel(L.LightningModule):\n",
    "    def __init__(self, input_dim, LEARNING_RATE, HIDDEN_DIM_1, HIDDEN_DIM_2, out_dim, NUM_HEADS):\n",
    "        super().__init__()\n",
    "\n",
    "        # input parameters\n",
    "        self.input_dim = input_dim\n",
    "        self.LEARNING_RATE = LEARNING_RATE\n",
    "        self.HIDDEN_DIM_1 = HIDDEN_DIM_1\n",
    "        self.HIDDEN_DIM_2 = HIDDEN_DIM_2\n",
    "        self.out_dim = out_dim\n",
    "        self.NUM_HEADS = NUM_HEADS\n",
    "        \n",
    "        self.mul_head_attention = torch.nn.MultiheadAttention(embed_dim=input_dim, num_heads=self.NUM_HEADS)\n",
    "        self.linear_1 = torch.nn.Linear(9 * self.input_dim, self.HIDDEN_DIM_1)\n",
    "        self.linear_2 = torch.nn.Linear(self.HIDDEN_DIM_1, self.HIDDEN_DIM_2)\n",
    "        self.linear_3 = torch.nn.Linear(self.HIDDEN_DIM_2, out_dim)\n",
    "        self.relu = torch.nn.ReLU()\n",
    "        self.loss_func = torch.nn.BCELoss()\n",
    "        self.dropout = torch.nn.Dropout(0.5)  \n",
    "\n",
    "    def forward(self, x):\n",
    "        x = x.permute(1, 0, 2)  # Shape: [pathways, samples, features]\n",
    "        # Multi-head attention\n",
    "        x, att_weights = self.mul_head_attention(x, x, x)  # Shape: [pathways, samples, features]\n",
    "        x = x.permute(1, 0, 2)  # Shape: [samples, pathways, features]\n",
    "        # Flatten for fully connected layers\n",
    "        x = x.flatten(start_dim=1)  # Shape: [samples, pathways * features]\n",
    "        # Fully connected layers\n",
    "        x = self.relu(self.linear_1(x))\n",
    "        x = self.dropout(x)\n",
    "        x = self.relu(self.linear_2(x))\n",
    "        x = self.dropout(x)\n",
    "        x = torch.sigmoid(self.linear_3(x)) \n",
    "        return x, att_weights\n",
    "\n",
    "    def training_step(self, batch, batch_idx):\n",
    "        # split x and y\n",
    "        x, y = batch \n",
    "        # perform predictions - weights output not needed\n",
    "        preds, _ = self.forward(x) \n",
    "        # calculate and return loss\n",
    "        loss = self.loss_func(preds.view(-1), y)\n",
    "        self.log(\"train_loss\", loss, prog_bar=True, on_epoch=True, on_step=False)\n",
    "\n",
    "        return loss\n",
    "    \n",
    "    def configure_optimizers(self):\n",
    "        optimizer = torch.optim.Adam(self.parameters(), lr=self.LEARNING_RATE)\n",
    "        return optimizer"
   ]
  },
  {
   "cell_type": "markdown",
   "metadata": {},
   "source": [
    "#### 3.2. Standard Network Class"
   ]
  },
  {
   "cell_type": "code",
   "execution_count": 1637,
   "metadata": {},
   "outputs": [],
   "source": [
    "class StandardNeuralNetwork(L.LightningModule):\n",
    "    def __init__(self, input_dim, LEARNING_RATE, HIDDEN_DIM_1, HIDDEN_DIM_2, out_dim):\n",
    "        super().__init__()\n",
    "\n",
    "        # input parameters\n",
    "        self.input_dim = input_dim\n",
    "        self.LEARNING_RATE = LEARNING_RATE\n",
    "        self.HIDDEN_DIM_1 = HIDDEN_DIM_1\n",
    "        self.HIDDEN_DIM_2 = HIDDEN_DIM_2\n",
    "        self.out_dim = out_dim\n",
    "\n",
    "        # layers\n",
    "        self.linear_1 = torch.nn.Linear(self.input_dim, self.HIDDEN_DIM_1) \n",
    "        self.linear_2 = torch.nn.Linear(self.HIDDEN_DIM_1, HIDDEN_DIM_1)\n",
    "        self.linear_3 = torch.nn.Linear(self.HIDDEN_DIM_1, self.HIDDEN_DIM_2)\n",
    "        self.linear_4 = torch.nn.Linear(self.HIDDEN_DIM_2, self.out_dim)\n",
    "        self.relu = torch.nn.ReLU()\n",
    "\n",
    "        # loss function\n",
    "        self.loss_func = torch.nn.BCELoss()\n",
    "\n",
    "    def forward(self, x):\n",
    "        x = self.relu(self.linear_1(x))\n",
    "        x = self.relu(self.linear_2(x))\n",
    "        x = self.relu(self.linear_3(x))\n",
    "        output = self.linear_4(x)\n",
    "        output = torch.sigmoid(output)\n",
    "        return output\n",
    "\n",
    "    def training_step(self, batch, batch_idx):\n",
    "        # split x and y\n",
    "        x, y = batch \n",
    "        preds = self.forward(x) \n",
    "        # calculate and return loss\n",
    "        loss = self.loss_func(preds.view(-1), y)\n",
    "        self.log(\"train_loss\", loss, prog_bar=True, on_epoch=True, on_step=False)\n",
    "\n",
    "        return loss\n",
    "    \n",
    "    def configure_optimizers(self):\n",
    "        optimizer = torch.optim.Adam(self.parameters(), lr=self.LEARNING_RATE)\n",
    "        return optimizer"
   ]
  },
  {
   "cell_type": "markdown",
   "metadata": {},
   "source": [
    "#### 3.2. Train-Test pipeline"
   ]
  },
  {
   "cell_type": "code",
   "execution_count": 1638,
   "metadata": {},
   "outputs": [],
   "source": [
    "def train_and_test(lightning_module, model, MAX_EPOCHS, train_data_loader, x_test, y_test, attention):\n",
    "\n",
    "    # TRAINING STEPS\n",
    "\n",
    "    # Initialize the Lightning Trainer\n",
    "    trainer = lightning_module.Trainer(max_epochs=MAX_EPOCHS, log_every_n_steps=10)\n",
    "        \n",
    "    # Train the model\n",
    "    trainer.fit(model, train_data_loader)\n",
    "\n",
    "    # TESTING STEPS\n",
    "    \n",
    "    # set model to evaluation state\n",
    "    model.eval()\n",
    "\n",
    "    # perform forward pass to test data\n",
    "    with torch.no_grad():\n",
    "        if attention:\n",
    "            preds, attention_weights = model(x_test)\n",
    "        else:\n",
    "            preds = model(x_test)\n",
    "\n",
    "    # evaluation metrics\n",
    "    # to get the scores from the sklearn metrics, we need to:\n",
    "    # convert the predictions to binary values 0,1 and to numpy\n",
    "    preds = (preds > 0.5).int().numpy()\n",
    "    f1_result = f1_score(y_test, preds)\n",
    "    mcc = matthews_corrcoef(y_test, preds)\n",
    "\n",
    "    print(\"-------------------------------------------\")\n",
    "    print(f\"F1-Score: {f1_result}\")\n",
    "    print(f\"Matthews Correlation Coefficient: {mcc}\")\n",
    "\n",
    "    if attention:\n",
    "        return attention_weights"
   ]
  },
  {
   "cell_type": "markdown",
   "metadata": {},
   "source": [
    "### 4. Execution and Results"
   ]
  },
  {
   "cell_type": "markdown",
   "metadata": {},
   "source": [
    "#### 4.1. MultiHead Attention Model"
   ]
  },
  {
   "cell_type": "code",
   "execution_count": 1639,
   "metadata": {},
   "outputs": [
    {
     "name": "stderr",
     "output_type": "stream",
     "text": [
      "GPU available: False, used: False\n",
      "TPU available: False, using: 0 TPU cores\n",
      "HPU available: False, using: 0 HPUs\n",
      "\n",
      "  | Name               | Type               | Params | Mode \n",
      "------------------------------------------------------------------\n",
      "0 | mul_head_attention | MultiheadAttention | 2.2 K  | train\n",
      "1 | linear_1           | Linear             | 53.2 K | train\n",
      "2 | linear_2           | Linear             | 32.9 K | train\n",
      "3 | linear_3           | Linear             | 129    | train\n",
      "4 | relu               | ReLU               | 0      | train\n",
      "5 | loss_func          | BCELoss            | 0      | train\n",
      "6 | dropout            | Dropout            | 0      | train\n",
      "------------------------------------------------------------------\n",
      "88.5 K    Trainable params\n",
      "0         Non-trainable params\n",
      "88.5 K    Total params\n",
      "0.354     Total estimated model params size (MB)\n",
      "8         Modules in train mode\n",
      "0         Modules in eval mode\n",
      "d:\\Learning\\virtual_env\\Lib\\site-packages\\pytorch_lightning\\trainer\\connectors\\data_connector.py:424: The 'train_dataloader' does not have many workers which may be a bottleneck. Consider increasing the value of the `num_workers` argument` to `num_workers=19` in the `DataLoader` to improve performance.\n"
     ]
    },
    {
     "data": {
      "application/vnd.jupyter.widget-view+json": {
       "model_id": "c04f616e4ee948c6bdfa91bdd48cd782",
       "version_major": 2,
       "version_minor": 0
      },
      "text/plain": [
       "Training: |          | 0/? [00:00<?, ?it/s]"
      ]
     },
     "metadata": {},
     "output_type": "display_data"
    },
    {
     "name": "stderr",
     "output_type": "stream",
     "text": [
      "`Trainer.fit` stopped: `max_epochs=100` reached.\n"
     ]
    },
    {
     "name": "stdout",
     "output_type": "stream",
     "text": [
      "-------------------------------------------\n",
      "F1-Score: 0.3791469194312796\n",
      "Matthews Correlation Coefficient: 0.15184527824972274\n"
     ]
    }
   ],
   "source": [
    "attention_model = MultiHeadAttentionModel(\n",
    "    input_dim=attention_train_loader.dataset[0][0].shape[1],\n",
    "    LEARNING_RATE = LEARNING_RATE,\n",
    "    HIDDEN_DIM_1 = HIDDEN_DIM_1,\n",
    "    HIDDEN_DIM_2 = HIDDEN_DIM_2,\n",
    "    out_dim = 1,\n",
    "    NUM_HEADS = NUM_HEADS\n",
    ")\n",
    "\n",
    "attention_weights = train_and_test(L, attention_model, MAX_EPOCHS, attention_train_loader, attention_x_test, attention_y_test, attention=True)"
   ]
  },
  {
   "cell_type": "markdown",
   "metadata": {},
   "source": [
    "After training and testing, attention weights are extracted. The following section provides an overview of the weights."
   ]
  },
  {
   "cell_type": "code",
   "execution_count": 1640,
   "metadata": {},
   "outputs": [
    {
     "name": "stdout",
     "output_type": "stream",
     "text": [
      "Shape of attention weights: torch.Size([378, 9, 9])\n"
     ]
    }
   ],
   "source": [
    "# check the shape of the attention weights matrix\n",
    "print(f\"Shape of attention weights: {attention_weights.shape}\")"
   ]
  },
  {
   "cell_type": "markdown",
   "metadata": {},
   "source": [
    "The analysis focus will be the attention of the samples to each pathway. Thus, the averaged weights across pathways will be computed, making the visualization easier."
   ]
  },
  {
   "cell_type": "code",
   "execution_count": 1641,
   "metadata": {},
   "outputs": [],
   "source": [
    "# get averaged weights across dimension 1 - pathways\n",
    "averaged_weights = attention_weights.mean(dim=1) \n",
    "\n",
    "# create dataframe for easier processing - set columns to the unique pathways list\n",
    "weights_df = pd.DataFrame(averaged_weights, columns=pathways_df[\"Pathway\"].unique())"
   ]
  },
  {
   "cell_type": "code",
   "execution_count": 1642,
   "metadata": {},
   "outputs": [
    {
     "data": {
      "application/vnd.microsoft.datawrangler.viewer.v0+json": {
       "columns": [
        {
         "name": "index",
         "rawType": "int64",
         "type": "integer"
        },
        {
         "name": "Pathway_0",
         "rawType": "float32",
         "type": "float"
        },
        {
         "name": "Pathway_1",
         "rawType": "float32",
         "type": "float"
        },
        {
         "name": "Pathway_2",
         "rawType": "float32",
         "type": "float"
        },
        {
         "name": "Pathway_3",
         "rawType": "float32",
         "type": "float"
        },
        {
         "name": "Pathway_4",
         "rawType": "float32",
         "type": "float"
        },
        {
         "name": "Pathway_5",
         "rawType": "float32",
         "type": "float"
        },
        {
         "name": "Pathway_6",
         "rawType": "float32",
         "type": "float"
        },
        {
         "name": "Pathway_7",
         "rawType": "float32",
         "type": "float"
        },
        {
         "name": "Pathway_8",
         "rawType": "float32",
         "type": "float"
        }
       ],
       "conversionMethod": "pd.DataFrame",
       "ref": "0f3cfb3f-fce0-46b4-9342-af60a863e941",
       "rows": [
        [
         "0",
         "0.10250522",
         "0.1103318",
         "0.11516934",
         "0.10791297",
         "0.10950415",
         "0.10893437",
         "0.12621434",
         "0.11511372",
         "0.10431406"
        ],
        [
         "1",
         "0.11003906",
         "0.10974484",
         "0.10832841",
         "0.105454795",
         "0.10747516",
         "0.10706684",
         "0.11333312",
         "0.124008626",
         "0.11454912"
        ],
        [
         "2",
         "0.102833286",
         "0.103035",
         "0.14325584",
         "0.10788965",
         "0.108330324",
         "0.1104862",
         "0.115222014",
         "0.11016887",
         "0.098778814"
        ],
        [
         "3",
         "0.10625255",
         "0.11898679",
         "0.1257644",
         "0.108800136",
         "0.10384166",
         "0.10973976",
         "0.10471472",
         "0.10912472",
         "0.11277527"
        ],
        [
         "4",
         "0.107531995",
         "0.10955192",
         "0.10930812",
         "0.110987656",
         "0.12825783",
         "0.11310645",
         "0.1166383",
         "0.10396105",
         "0.100656666"
        ]
       ],
       "shape": {
        "columns": 9,
        "rows": 5
       }
      },
      "text/html": [
       "<div>\n",
       "<style scoped>\n",
       "    .dataframe tbody tr th:only-of-type {\n",
       "        vertical-align: middle;\n",
       "    }\n",
       "\n",
       "    .dataframe tbody tr th {\n",
       "        vertical-align: top;\n",
       "    }\n",
       "\n",
       "    .dataframe thead th {\n",
       "        text-align: right;\n",
       "    }\n",
       "</style>\n",
       "<table border=\"1\" class=\"dataframe\">\n",
       "  <thead>\n",
       "    <tr style=\"text-align: right;\">\n",
       "      <th></th>\n",
       "      <th>Pathway_0</th>\n",
       "      <th>Pathway_1</th>\n",
       "      <th>Pathway_2</th>\n",
       "      <th>Pathway_3</th>\n",
       "      <th>Pathway_4</th>\n",
       "      <th>Pathway_5</th>\n",
       "      <th>Pathway_6</th>\n",
       "      <th>Pathway_7</th>\n",
       "      <th>Pathway_8</th>\n",
       "    </tr>\n",
       "  </thead>\n",
       "  <tbody>\n",
       "    <tr>\n",
       "      <th>0</th>\n",
       "      <td>0.102505</td>\n",
       "      <td>0.110332</td>\n",
       "      <td>0.115169</td>\n",
       "      <td>0.107913</td>\n",
       "      <td>0.109504</td>\n",
       "      <td>0.108934</td>\n",
       "      <td>0.126214</td>\n",
       "      <td>0.115114</td>\n",
       "      <td>0.104314</td>\n",
       "    </tr>\n",
       "    <tr>\n",
       "      <th>1</th>\n",
       "      <td>0.110039</td>\n",
       "      <td>0.109745</td>\n",
       "      <td>0.108328</td>\n",
       "      <td>0.105455</td>\n",
       "      <td>0.107475</td>\n",
       "      <td>0.107067</td>\n",
       "      <td>0.113333</td>\n",
       "      <td>0.124009</td>\n",
       "      <td>0.114549</td>\n",
       "    </tr>\n",
       "    <tr>\n",
       "      <th>2</th>\n",
       "      <td>0.102833</td>\n",
       "      <td>0.103035</td>\n",
       "      <td>0.143256</td>\n",
       "      <td>0.107890</td>\n",
       "      <td>0.108330</td>\n",
       "      <td>0.110486</td>\n",
       "      <td>0.115222</td>\n",
       "      <td>0.110169</td>\n",
       "      <td>0.098779</td>\n",
       "    </tr>\n",
       "    <tr>\n",
       "      <th>3</th>\n",
       "      <td>0.106253</td>\n",
       "      <td>0.118987</td>\n",
       "      <td>0.125764</td>\n",
       "      <td>0.108800</td>\n",
       "      <td>0.103842</td>\n",
       "      <td>0.109740</td>\n",
       "      <td>0.104715</td>\n",
       "      <td>0.109125</td>\n",
       "      <td>0.112775</td>\n",
       "    </tr>\n",
       "    <tr>\n",
       "      <th>4</th>\n",
       "      <td>0.107532</td>\n",
       "      <td>0.109552</td>\n",
       "      <td>0.109308</td>\n",
       "      <td>0.110988</td>\n",
       "      <td>0.128258</td>\n",
       "      <td>0.113106</td>\n",
       "      <td>0.116638</td>\n",
       "      <td>0.103961</td>\n",
       "      <td>0.100657</td>\n",
       "    </tr>\n",
       "  </tbody>\n",
       "</table>\n",
       "</div>"
      ],
      "text/plain": [
       "   Pathway_0  Pathway_1  Pathway_2  Pathway_3  Pathway_4  Pathway_5  \\\n",
       "0   0.102505   0.110332   0.115169   0.107913   0.109504   0.108934   \n",
       "1   0.110039   0.109745   0.108328   0.105455   0.107475   0.107067   \n",
       "2   0.102833   0.103035   0.143256   0.107890   0.108330   0.110486   \n",
       "3   0.106253   0.118987   0.125764   0.108800   0.103842   0.109740   \n",
       "4   0.107532   0.109552   0.109308   0.110988   0.128258   0.113106   \n",
       "\n",
       "   Pathway_6  Pathway_7  Pathway_8  \n",
       "0   0.126214   0.115114   0.104314  \n",
       "1   0.113333   0.124009   0.114549  \n",
       "2   0.115222   0.110169   0.098779  \n",
       "3   0.104715   0.109125   0.112775  \n",
       "4   0.116638   0.103961   0.100657  "
      ]
     },
     "execution_count": 1642,
     "metadata": {},
     "output_type": "execute_result"
    }
   ],
   "source": [
    "# get overview of the values\n",
    "weights_df.head()"
   ]
  },
  {
   "cell_type": "code",
   "execution_count": 1643,
   "metadata": {},
   "outputs": [
    {
     "data": {
      "text/plain": [
       "0      1.0\n",
       "1      1.0\n",
       "2      1.0\n",
       "3      1.0\n",
       "4      1.0\n",
       "      ... \n",
       "373    1.0\n",
       "374    1.0\n",
       "375    1.0\n",
       "376    1.0\n",
       "377    1.0\n",
       "Length: 378, dtype: float32"
      ]
     },
     "execution_count": 1643,
     "metadata": {},
     "output_type": "execute_result"
    }
   ],
   "source": [
    "# the weights of the pathways (axis 1) should sum close to 1 for each sample \n",
    "weights_df.sum(axis=1)"
   ]
  },
  {
   "cell_type": "code",
   "execution_count": 1644,
   "metadata": {},
   "outputs": [
    {
     "data": {
      "image/png": "[encoded data removed]",
      "text/plain": [
       "<Figure size 1200x600 with 2 Axes>"
      ]
     },
     "metadata": {},
     "output_type": "display_data"
    }
   ],
   "source": [
    "# plot a heatmap of the weights across samples for general overview\n",
    "\n",
    "plt.figure(figsize=(12, 6))\n",
    "sns.heatmap(weights_df, cmap=\"viridis\", yticklabels=False)\n",
    "plt.ylabel(\"Samples\")\n",
    "plt.title(\"Averaged Attention Weights Heatmap\")\n",
    "plt.show()"
   ]
  },
  {
   "cell_type": "code",
   "execution_count": 1645,
   "metadata": {},
   "outputs": [
    {
     "data": {
      "image/png": "[encoded data removed]",
      "text/plain": [
       "<Figure size 1200x600 with 1 Axes>"
      ]
     },
     "metadata": {},
     "output_type": "display_data"
    }
   ],
   "source": [
    "# get the distribution of attention weights over pathways\n",
    "plt.figure(figsize=(12, 6))\n",
    "sns.boxplot(data=weights_df, palette=\"Set3\")\n",
    "plt.xlabel(\"Pathways\")\n",
    "plt.ylabel(\"Attention Score\")\n",
    "plt.title(\"Attention Weights Distribution Per Pathway\")\n",
    "plt.show()\n"
   ]
  },
  {
   "cell_type": "markdown",
   "metadata": {},
   "source": [
    "#### 4.2. Standard Neural Network"
   ]
  },
  {
   "cell_type": "code",
   "execution_count": 1646,
   "metadata": {},
   "outputs": [
    {
     "name": "stderr",
     "output_type": "stream",
     "text": [
      "GPU available: False, used: False\n",
      "TPU available: False, using: 0 TPU cores\n",
      "HPU available: False, using: 0 HPUs\n",
      "\n",
      "  | Name      | Type    | Params | Mode \n",
      "----------------------------------------------\n",
      "0 | linear_1  | Linear  | 14.1 K | train\n",
      "1 | linear_2  | Linear  | 65.8 K | train\n",
      "2 | linear_3  | Linear  | 32.9 K | train\n",
      "3 | linear_4  | Linear  | 129    | train\n",
      "4 | relu      | ReLU    | 0      | train\n",
      "5 | loss_func | BCELoss | 0      | train\n",
      "----------------------------------------------\n",
      "112 K     Trainable params\n",
      "0         Non-trainable params\n",
      "112 K     Total params\n",
      "0.452     Total estimated model params size (MB)\n",
      "6         Modules in train mode\n",
      "0         Modules in eval mode\n",
      "d:\\Learning\\virtual_env\\Lib\\site-packages\\pytorch_lightning\\trainer\\connectors\\data_connector.py:424: The 'train_dataloader' does not have many workers which may be a bottleneck. Consider increasing the value of the `num_workers` argument` to `num_workers=19` in the `DataLoader` to improve performance.\n"
     ]
    },
    {
     "data": {
      "application/vnd.jupyter.widget-view+json": {
       "model_id": "c0b88116f12345bb9e1c635f5c4c5a1c",
       "version_major": 2,
       "version_minor": 0
      },
      "text/plain": [
       "Training: |          | 0/? [00:00<?, ?it/s]"
      ]
     },
     "metadata": {},
     "output_type": "display_data"
    },
    {
     "name": "stderr",
     "output_type": "stream",
     "text": [
      "`Trainer.fit` stopped: `max_epochs=100` reached.\n"
     ]
    },
    {
     "name": "stdout",
     "output_type": "stream",
     "text": [
      "-------------------------------------------\n",
      "F1-Score: 0.34782608695652173\n",
      "Matthews Correlation Coefficient: 0.11770853077346483\n"
     ]
    }
   ],
   "source": [
    "standard_model = StandardNeuralNetwork(\n",
    "    input_dim=standard_train_loader.dataset[0][0].shape[0],\n",
    "    LEARNING_RATE = LEARNING_RATE,\n",
    "    HIDDEN_DIM_1 = HIDDEN_DIM_1,\n",
    "    HIDDEN_DIM_2 = HIDDEN_DIM_2,\n",
    "    out_dim = 1,\n",
    ")\n",
    "\n",
    "train_and_test(L, standard_model, MAX_EPOCHS, standard_train_loader, standard_x_test, standard_y_test, attention=False)"
   ]
  }
 ],
 "metadata": {
  "kernelspec": {
   "display_name": "virtual_env",
   "language": "python",
   "name": "python3"
  },
  "language_info": {
   "codemirror_mode": {
    "name": "ipython",
    "version": 3
   },
   "file_extension": ".py",
   "mimetype": "text/x-python",
   "name": "python",
   "nbconvert_exporter": "python",
   "pygments_lexer": "ipython3",
   "version": "3.12.0"
  }
 },
 "nbformat": 4,
 "nbformat_minor": 2
}
