{
 "cells": [
  {
   "cell_type": "markdown",
   "metadata": {},
   "source": [
    "# Final Project - Integrative Data Analysis\n",
    "## Student: Xhemal Kodragjini  \n",
    "This notebook contains the code for the final project. The task is to predict the classification of chemotherapy resistance in cancer cell lines using proteomics and pathway information, comparing a multi-head attention neural network with a simple feed-forward neural network.  "
   ]
  },
  {
   "cell_type": "markdown",
   "metadata": {},
   "source": [
    "---"
   ]
  },
  {
   "cell_type": "markdown",
   "metadata": {},
   "source": [
    "#### Part 0: Import necessary libraries"
   ]
  },
  {
   "cell_type": "code",
   "execution_count": 1,
   "metadata": {},
   "outputs": [],
   "source": [
    "import numpy as np\n",
    "import pandas as pd\n",
    "import torch"
   ]
  },
  {
   "cell_type": "markdown",
   "metadata": {},
   "source": [
    "#### Part 0: Load the datasets"
   ]
  },
  {
   "cell_type": "code",
   "execution_count": 18,
   "metadata": {},
   "outputs": [],
   "source": [
    "# Load the datasets. Use index_col to set first column as index\n",
    "\n",
    "chemoresistance_df = pd.read_csv('./data/chemoresistance_labels.csv', index_col=0)\n",
    "pathways_df = pd.read_csv('./data/pathways_proteomics.csv')\n",
    "proteomics_df = pd.read_csv('./data/proteomics.csv', index_col=0)"
   ]
  },
  {
   "cell_type": "code",
   "execution_count": 19,
   "metadata": {},
   "outputs": [
    {
     "name": "stdout",
     "output_type": "stream",
     "text": [
      "Chemoresistance DataFrame:\n"
     ]
    },
    {
     "data": {
      "application/vnd.microsoft.datawrangler.viewer.v0+json": {
       "columns": [
        {
         "name": "index",
         "rawType": "object",
         "type": "string"
        },
        {
         "name": "Chemotherapy_Resistance",
         "rawType": "int64",
         "type": "integer"
        }
       ],
       "conversionMethod": "pd.DataFrame",
       "ref": "93143aeb-4fbd-4d05-86cf-10da9ad02ca8",
       "rows": [
        [
         "Cell_line_1613",
         "0"
        ],
        [
         "Cell_line_973",
         "1"
        ],
        [
         "Cell_line_577",
         "0"
        ],
        [
         "Cell_line_493",
         "0"
        ],
        [
         "Cell_line_1755",
         "0"
        ]
       ],
       "shape": {
        "columns": 1,
        "rows": 5
       }
      },
      "text/html": [
       "<div>\n",
       "<style scoped>\n",
       "    .dataframe tbody tr th:only-of-type {\n",
       "        vertical-align: middle;\n",
       "    }\n",
       "\n",
       "    .dataframe tbody tr th {\n",
       "        vertical-align: top;\n",
       "    }\n",
       "\n",
       "    .dataframe thead th {\n",
       "        text-align: right;\n",
       "    }\n",
       "</style>\n",
       "<table border=\"1\" class=\"dataframe\">\n",
       "  <thead>\n",
       "    <tr style=\"text-align: right;\">\n",
       "      <th></th>\n",
       "      <th>Chemotherapy_Resistance</th>\n",
       "    </tr>\n",
       "  </thead>\n",
       "  <tbody>\n",
       "    <tr>\n",
       "      <th>Cell_line_1613</th>\n",
       "      <td>0</td>\n",
       "    </tr>\n",
       "    <tr>\n",
       "      <th>Cell_line_973</th>\n",
       "      <td>1</td>\n",
       "    </tr>\n",
       "    <tr>\n",
       "      <th>Cell_line_577</th>\n",
       "      <td>0</td>\n",
       "    </tr>\n",
       "    <tr>\n",
       "      <th>Cell_line_493</th>\n",
       "      <td>0</td>\n",
       "    </tr>\n",
       "    <tr>\n",
       "      <th>Cell_line_1755</th>\n",
       "      <td>0</td>\n",
       "    </tr>\n",
       "  </tbody>\n",
       "</table>\n",
       "</div>"
      ],
      "text/plain": [
       "                Chemotherapy_Resistance\n",
       "Cell_line_1613                        0\n",
       "Cell_line_973                         1\n",
       "Cell_line_577                         0\n",
       "Cell_line_493                         0\n",
       "Cell_line_1755                        0"
      ]
     },
     "metadata": {},
     "output_type": "display_data"
    }
   ],
   "source": [
    "print(\"Chemoresistance DataFrame:\")\n",
    "display(chemoresistance_df.head())"
   ]
  },
  {
   "cell_type": "code",
   "execution_count": 20,
   "metadata": {},
   "outputs": [
    {
     "name": "stdout",
     "output_type": "stream",
     "text": [
      "Pathway-Protein Mapping DataFrame:\n"
     ]
    },
    {
     "data": {
      "application/vnd.microsoft.datawrangler.viewer.v0+json": {
       "columns": [
        {
         "name": "index",
         "rawType": "int64",
         "type": "integer"
        },
        {
         "name": "Pathway",
         "rawType": "object",
         "type": "string"
        },
        {
         "name": "Protein",
         "rawType": "object",
         "type": "string"
        }
       ],
       "conversionMethod": "pd.DataFrame",
       "ref": "b8239999-d59c-4000-a89e-1ebca6973d1d",
       "rows": [
        [
         "0",
         "Pathway_0",
         "Protein_7"
        ],
        [
         "1",
         "Pathway_1",
         "Protein_7"
        ],
        [
         "2",
         "Pathway_2",
         "Protein_28"
        ],
        [
         "3",
         "Pathway_3",
         "Protein_28"
        ],
        [
         "4",
         "Pathway_4",
         "Protein_20"
        ]
       ],
       "shape": {
        "columns": 2,
        "rows": 5
       }
      },
      "text/html": [
       "<div>\n",
       "<style scoped>\n",
       "    .dataframe tbody tr th:only-of-type {\n",
       "        vertical-align: middle;\n",
       "    }\n",
       "\n",
       "    .dataframe tbody tr th {\n",
       "        vertical-align: top;\n",
       "    }\n",
       "\n",
       "    .dataframe thead th {\n",
       "        text-align: right;\n",
       "    }\n",
       "</style>\n",
       "<table border=\"1\" class=\"dataframe\">\n",
       "  <thead>\n",
       "    <tr style=\"text-align: right;\">\n",
       "      <th></th>\n",
       "      <th>Pathway</th>\n",
       "      <th>Protein</th>\n",
       "    </tr>\n",
       "  </thead>\n",
       "  <tbody>\n",
       "    <tr>\n",
       "      <th>0</th>\n",
       "      <td>Pathway_0</td>\n",
       "      <td>Protein_7</td>\n",
       "    </tr>\n",
       "    <tr>\n",
       "      <th>1</th>\n",
       "      <td>Pathway_1</td>\n",
       "      <td>Protein_7</td>\n",
       "    </tr>\n",
       "    <tr>\n",
       "      <th>2</th>\n",
       "      <td>Pathway_2</td>\n",
       "      <td>Protein_28</td>\n",
       "    </tr>\n",
       "    <tr>\n",
       "      <th>3</th>\n",
       "      <td>Pathway_3</td>\n",
       "      <td>Protein_28</td>\n",
       "    </tr>\n",
       "    <tr>\n",
       "      <th>4</th>\n",
       "      <td>Pathway_4</td>\n",
       "      <td>Protein_20</td>\n",
       "    </tr>\n",
       "  </tbody>\n",
       "</table>\n",
       "</div>"
      ],
      "text/plain": [
       "     Pathway     Protein\n",
       "0  Pathway_0   Protein_7\n",
       "1  Pathway_1   Protein_7\n",
       "2  Pathway_2  Protein_28\n",
       "3  Pathway_3  Protein_28\n",
       "4  Pathway_4  Protein_20"
      ]
     },
     "metadata": {},
     "output_type": "display_data"
    }
   ],
   "source": [
    "print(\"Pathway-Protein Mapping DataFrame:\")\n",
    "display(pathways_df.head())"
   ]
  },
  {
   "cell_type": "code",
   "execution_count": 22,
   "metadata": {},
   "outputs": [
    {
     "name": "stdout",
     "output_type": "stream",
     "text": [
      "Proteomics DataFrame:\n"
     ]
    },
    {
     "data": {
      "application/vnd.microsoft.datawrangler.viewer.v0+json": {
       "columns": [
        {
         "name": "index",
         "rawType": "object",
         "type": "string"
        },
        {
         "name": "Protein_0",
         "rawType": "float64",
         "type": "float"
        },
        {
         "name": "Protein_1",
         "rawType": "float64",
         "type": "float"
        },
        {
         "name": "Protein_2",
         "rawType": "float64",
         "type": "float"
        },
        {
         "name": "Protein_3",
         "rawType": "float64",
         "type": "float"
        },
        {
         "name": "Protein_4",
         "rawType": "float64",
         "type": "float"
        },
        {
         "name": "Protein_5",
         "rawType": "float64",
         "type": "float"
        },
        {
         "name": "Protein_6",
         "rawType": "float64",
         "type": "float"
        },
        {
         "name": "Protein_7",
         "rawType": "float64",
         "type": "float"
        },
        {
         "name": "Protein_8",
         "rawType": "float64",
         "type": "float"
        },
        {
         "name": "Protein_9",
         "rawType": "float64",
         "type": "float"
        },
        {
         "name": "Protein_10",
         "rawType": "float64",
         "type": "float"
        },
        {
         "name": "Protein_11",
         "rawType": "float64",
         "type": "float"
        },
        {
         "name": "Protein_12",
         "rawType": "float64",
         "type": "float"
        },
        {
         "name": "Protein_13",
         "rawType": "float64",
         "type": "float"
        },
        {
         "name": "Protein_14",
         "rawType": "float64",
         "type": "float"
        },
        {
         "name": "Protein_15",
         "rawType": "float64",
         "type": "float"
        },
        {
         "name": "Protein_16",
         "rawType": "float64",
         "type": "float"
        },
        {
         "name": "Protein_17",
         "rawType": "float64",
         "type": "float"
        },
        {
         "name": "Protein_18",
         "rawType": "float64",
         "type": "float"
        },
        {
         "name": "Protein_19",
         "rawType": "float64",
         "type": "float"
        },
        {
         "name": "Protein_20",
         "rawType": "float64",
         "type": "float"
        },
        {
         "name": "Protein_21",
         "rawType": "float64",
         "type": "float"
        },
        {
         "name": "Protein_22",
         "rawType": "float64",
         "type": "float"
        },
        {
         "name": "Protein_23",
         "rawType": "float64",
         "type": "float"
        },
        {
         "name": "Protein_24",
         "rawType": "float64",
         "type": "float"
        },
        {
         "name": "Protein_25",
         "rawType": "float64",
         "type": "float"
        },
        {
         "name": "Protein_26",
         "rawType": "float64",
         "type": "float"
        },
        {
         "name": "Protein_27",
         "rawType": "float64",
         "type": "float"
        },
        {
         "name": "Protein_28",
         "rawType": "float64",
         "type": "float"
        },
        {
         "name": "Protein_29",
         "rawType": "float64",
         "type": "float"
        },
        {
         "name": "Protein_30",
         "rawType": "float64",
         "type": "float"
        },
        {
         "name": "Protein_31",
         "rawType": "float64",
         "type": "float"
        },
        {
         "name": "Protein_32",
         "rawType": "float64",
         "type": "float"
        },
        {
         "name": "Protein_33",
         "rawType": "float64",
         "type": "float"
        },
        {
         "name": "Protein_34",
         "rawType": "float64",
         "type": "float"
        },
        {
         "name": "Protein_35",
         "rawType": "float64",
         "type": "float"
        },
        {
         "name": "Protein_36",
         "rawType": "float64",
         "type": "float"
        },
        {
         "name": "Protein_37",
         "rawType": "float64",
         "type": "float"
        },
        {
         "name": "Protein_38",
         "rawType": "float64",
         "type": "float"
        },
        {
         "name": "Protein_39",
         "rawType": "float64",
         "type": "float"
        },
        {
         "name": "Protein_40",
         "rawType": "float64",
         "type": "float"
        },
        {
         "name": "Protein_41",
         "rawType": "float64",
         "type": "float"
        },
        {
         "name": "Protein_42",
         "rawType": "float64",
         "type": "float"
        },
        {
         "name": "Protein_43",
         "rawType": "float64",
         "type": "float"
        },
        {
         "name": "Protein_44",
         "rawType": "float64",
         "type": "float"
        },
        {
         "name": "Protein_45",
         "rawType": "float64",
         "type": "float"
        },
        {
         "name": "Protein_46",
         "rawType": "float64",
         "type": "float"
        },
        {
         "name": "Protein_47",
         "rawType": "float64",
         "type": "float"
        },
        {
         "name": "Protein_48",
         "rawType": "float64",
         "type": "float"
        },
        {
         "name": "Protein_49",
         "rawType": "float64",
         "type": "float"
        },
        {
         "name": "Protein_50",
         "rawType": "float64",
         "type": "float"
        },
        {
         "name": "Protein_51",
         "rawType": "float64",
         "type": "float"
        },
        {
         "name": "Protein_52",
         "rawType": "float64",
         "type": "float"
        },
        {
         "name": "Protein_53",
         "rawType": "float64",
         "type": "float"
        },
        {
         "name": "Protein_54",
         "rawType": "float64",
         "type": "float"
        },
        {
         "name": "Protein_55",
         "rawType": "float64",
         "type": "float"
        },
        {
         "name": "Protein_56",
         "rawType": "float64",
         "type": "float"
        },
        {
         "name": "Protein_57",
         "rawType": "float64",
         "type": "float"
        },
        {
         "name": "Protein_58",
         "rawType": "float64",
         "type": "float"
        },
        {
         "name": "Protein_59",
         "rawType": "float64",
         "type": "float"
        },
        {
         "name": "Protein_60",
         "rawType": "float64",
         "type": "float"
        },
        {
         "name": "Protein_61",
         "rawType": "float64",
         "type": "float"
        },
        {
         "name": "Protein_62",
         "rawType": "float64",
         "type": "float"
        },
        {
         "name": "Protein_63",
         "rawType": "float64",
         "type": "float"
        },
        {
         "name": "Protein_64",
         "rawType": "float64",
         "type": "float"
        },
        {
         "name": "Protein_65",
         "rawType": "float64",
         "type": "float"
        },
        {
         "name": "Protein_66",
         "rawType": "float64",
         "type": "float"
        }
       ],
       "conversionMethod": "pd.DataFrame",
       "ref": "b7b7ba7a-19f5-4020-aaa7-bf2c035e121b",
       "rows": [
        [
         "Cell_line_1479",
         "0.0385166946635094",
         "0.1853327859767716",
         "0.6961459364571962",
         "0.5066052043756202",
         "0.1451180323470994",
         "0.1532638196503328",
         "0.3973153124809555",
         "0.2708907959846838",
         "0.4643889753076611",
         "0.4515163554086787",
         "0.815566873883204",
         "0.5838745512318483",
         "0.4758959500878572",
         "0.6800473699915756",
         null,
         "0.704432929075279",
         "0.615697326880179",
         "0.1608992069004171",
         "0.1462254242897834",
         "0.6915670167052645",
         "0.1971709783714559",
         "0.9800515903407476",
         "0.6968927764881704",
         "0.5855156008766779",
         "0.6269185085102956",
         "0.3007672635260934",
         "0.3429842034424034",
         "0.3660250519355313",
         "0.1425524321940084",
         "0.2635586872165318",
         "0.8039576833440505",
         "0.5296855327434188",
         "0.6286292564904659",
         "0.6026925340847868",
         "0.9753502769138716",
         "0.784135733008791",
         "0.707746218531739",
         null,
         "0.0312824729634756",
         "0.5000846008240705",
         "0.7833855913741024",
         "0.8809448809466507",
         "0.4383815448328631",
         "0.3453833116896894",
         "0.3732271852955692",
         "0.9244698678070552",
         "1.136301522953595",
         "0.322260900528948",
         "0.2633484513921358",
         "0.2748908721223005",
         "0.5866070154109617",
         "0.2055698915198667",
         "0.4987117737452943",
         "0.4085467700514124",
         null,
         "0.7396098590505804",
         "0.4353133571608734",
         "0.1740470341950638",
         "0.6092329444230681",
         "0.6017227085124923",
         "0.7067759065437691",
         "0.5556858012590623",
         "0.4514403017046011",
         "0.3282756035613668",
         "0.5057065913675431",
         "0.3720670895794438",
         "0.3746354984542826"
        ],
        [
         "Cell_line_1313",
         "0.7393989542324941",
         "0.8481410701786426",
         "0.8165879922779908",
         "0.3670195550986715",
         "0.3504443968947033",
         "0.4881701833025468",
         "0.2493677450002355",
         "0.5080775887942367",
         "0.5306587127641027",
         "0.471021133365928",
         "0.0510082282171751",
         "0.1100012395554056",
         "0.6293891865162202",
         "0.723324911165097",
         "0.2047887824722764",
         "0.4853561482762189",
         "0.4329521946230117",
         "0.3893391360793989",
         "0.0807989445025158",
         "0.504751948444146",
         "0.3197524660426863",
         "0.270165942810668",
         "0.7093809000858879",
         null,
         "0.1830485087095266",
         "0.2233318793775878",
         "0.2441374346087896",
         "0.4294705921628284",
         null,
         "0.5714423750811415",
         "0.2281217978677105",
         "0.4006682651945519",
         "0.9970099620316784",
         "0.4315965606844772",
         "0.7014580358406148",
         "0.4921792808455633",
         "0.1292416772611033",
         "0.4732388133289419",
         "0.6172914432029628",
         "0.302192559642045",
         "0.2071602193907984",
         null,
         "0.5960291093429123",
         null,
         "0.7136058666256926",
         "0.7370440764953952",
         "0.3257980224262927",
         "0.811674223207827",
         "0.4170651528547184",
         "0.3033402714145009",
         "0.4621584865683293",
         "0.7885440254293794",
         "0.3832691355420548",
         "0.2467830162643451",
         null,
         "0.5960682323902718",
         "0.1889395273314182",
         "0.5906409479922821",
         "0.1607327363950419",
         "0.7948951884592304",
         "0.922322181486199",
         null,
         "0.711083479224398",
         "0.0437044565865318",
         "0.4186268903413155",
         "1.2419071551517835",
         "0.6597671906467857"
        ],
        [
         "Cell_line_1466",
         "0.1690431217638387",
         "0.0184341956679696",
         "0.88392210472295",
         "0.2682332967765079",
         "0.2032948176969257",
         "0.4447011077212183",
         "0.7818459231622835",
         "0.5326451193860335",
         "0.698187769833326",
         "0.3940663739145706",
         "0.83442590537524",
         "0.9577461351291164",
         "0.7720572496404742",
         "0.1264222497709636",
         "0.3656407635379111",
         "0.6211628680701797",
         "0.8250240268713889",
         null,
         "0.5399214771689957",
         "0.3745149076264856",
         "0.3156481403450292",
         "0.7578347755925892",
         "0.5164470871185591",
         "1.1423279025224469",
         "0.6321337441187311",
         null,
         "0.1503516907622625",
         "0.1941233281383712",
         "0.0869936561778305",
         "0.6659290749511273",
         "0.5397724176191436",
         "0.2567941252171579",
         "0.0597979820456922",
         "0.3513841468617927",
         "0.3464171652059683",
         "0.3704615154490407",
         "0.6579710138440368",
         "0.4843746518028204",
         null,
         "0.2113775921718629",
         null,
         "0.8661232761181709",
         "0.753264481646515",
         "0.5731035639905728",
         "0.234143174460755",
         "0.7095130457703976",
         "0.7725782408983363",
         "0.6462998996368714",
         "0.0017468761600042",
         null,
         "0.2297131721352879",
         "0.6398188184398217",
         "0.7144750027261519",
         "0.4001372112363014",
         "0.3577454222765328",
         "0.0186181141901929",
         "0.0255855815100919",
         "0.560849881708876",
         "0.063920940938267",
         "0.8899953819883318",
         "0.6696530129941536",
         "0.7858798952073915",
         "0.6210897954872823",
         "0.4799432629330833",
         "0.0544968503502187",
         "0.312457036189732",
         null
        ],
        [
         "Cell_line_1561",
         "0.5041860351791221",
         "0.5667541737647906",
         "0.7716435334737796",
         null,
         "0.4890461419003296",
         null,
         "0.8802035064109694",
         "0.3627712469083849",
         null,
         "0.663094789901898",
         "0.8674772442673979",
         "0.4700315242770387",
         "0.629864419831877",
         "0.2601381941215462",
         "0.4112998300047847",
         null,
         "0.4567463094828563",
         "0.904530785391065",
         "0.068068091794685",
         "0.5552547182854574",
         "0.83841794265506",
         null,
         "0.5132300519404998",
         "0.1190244284681518",
         "0.4265026949400169",
         "0.2779075161878815",
         "0.4864770203153002",
         "1.088460315603979",
         "0.5183335793824417",
         "0.6817053335187726",
         "0.4612044628915682",
         "0.3025393013809571",
         "0.1670699995460626",
         null,
         "1.0866747143492277",
         "0.5271313396498029",
         "0.2624500205025467",
         "0.9720237082345548",
         "0.2159217786679362",
         "0.9542247523326876",
         "0.0619933141018965",
         "0.4162529068473227",
         "0.56377297988436",
         "0.6602666791816576",
         "0.3235981113312414",
         "0.2332957477704711",
         "0.7359537066716599",
         "0.551651164531094",
         null,
         null,
         "0.2359046550824259",
         "0.3314153267020705",
         null,
         "0.2753877698405864",
         "0.6193858623627004",
         "1.0383056417833982",
         "0.7353971571872442",
         null,
         "0.2903454449571733",
         "0.5476151106039104",
         "0.6973761777782674",
         "0.6925959362123112",
         "0.6135025390439555",
         "0.3587512559274229",
         "0.6017833802985331",
         "0.5276452356381889",
         "0.74786738549726"
        ],
        [
         "Cell_line_272",
         "0.3283869745314297",
         "0.6899072897742745",
         "0.5764048988871024",
         "0.4331384501479025",
         "0.032261334838124",
         "0.2856803142768818",
         null,
         "0.3687413129515924",
         "0.1421293460077998",
         "0.6127678241043872",
         "0.7335880468495992",
         "0.814755177215176",
         "0.3039911724338144",
         "0.6016600472570343",
         "0.617491817045718",
         "0.6701677329551492",
         "0.4922565004501382",
         "0.532188856519518",
         "0.7094034023318156",
         "0.3587276713788688",
         "0.5848797430173622",
         "0.277851516996156",
         "0.0651441493858318",
         "0.4860029141970742",
         "0.5453888158900373",
         "0.5631529971101895",
         "0.5481970478973828",
         "0.1970599730515154",
         "0.3475288780586569",
         "0.738825685271437",
         "0.2824462057001324",
         null,
         "0.8449071800110022",
         null,
         "0.6718107802652943",
         "0.7188537371483221",
         "0.160999557166469",
         "0.7062564491334135",
         "0.8420654279170467",
         "0.24762407573163",
         "0.8940528023539697",
         "0.4553976377777675",
         "0.2292454652959714",
         "0.0544100359867472",
         "0.2730823897820188",
         "1.070497030567279",
         "0.3799638752019134",
         "0.4980253828990637",
         "0.5423356015898955",
         "0.7614329254594276",
         "0.4621977147110663",
         "0.2736030451931129",
         "0.7686189977727811",
         "0.172798536618694",
         "0.9129090299931",
         "0.320988123517515",
         "0.0443905027548942",
         "0.7472706802637267",
         "0.2707830740500576",
         "0.3463722437405257",
         "0.906708089057812",
         "0.7315350020223428",
         "0.6180644447954385",
         "0.2532035416473057",
         "0.8680460773861767",
         "0.607249772642863",
         "0.2464232619520816"
        ]
       ],
       "shape": {
        "columns": 67,
        "rows": 5
       }
      },
      "text/html": [
       "<div>\n",
       "<style scoped>\n",
       "    .dataframe tbody tr th:only-of-type {\n",
       "        vertical-align: middle;\n",
       "    }\n",
       "\n",
       "    .dataframe tbody tr th {\n",
       "        vertical-align: top;\n",
       "    }\n",
       "\n",
       "    .dataframe thead th {\n",
       "        text-align: right;\n",
       "    }\n",
       "</style>\n",
       "<table border=\"1\" class=\"dataframe\">\n",
       "  <thead>\n",
       "    <tr style=\"text-align: right;\">\n",
       "      <th></th>\n",
       "      <th>Protein_0</th>\n",
       "      <th>Protein_1</th>\n",
       "      <th>Protein_2</th>\n",
       "      <th>Protein_3</th>\n",
       "      <th>Protein_4</th>\n",
       "      <th>Protein_5</th>\n",
       "      <th>Protein_6</th>\n",
       "      <th>Protein_7</th>\n",
       "      <th>Protein_8</th>\n",
       "      <th>Protein_9</th>\n",
       "      <th>...</th>\n",
       "      <th>Protein_57</th>\n",
       "      <th>Protein_58</th>\n",
       "      <th>Protein_59</th>\n",
       "      <th>Protein_60</th>\n",
       "      <th>Protein_61</th>\n",
       "      <th>Protein_62</th>\n",
       "      <th>Protein_63</th>\n",
       "      <th>Protein_64</th>\n",
       "      <th>Protein_65</th>\n",
       "      <th>Protein_66</th>\n",
       "    </tr>\n",
       "  </thead>\n",
       "  <tbody>\n",
       "    <tr>\n",
       "      <th>Cell_line_1479</th>\n",
       "      <td>0.038517</td>\n",
       "      <td>0.185333</td>\n",
       "      <td>0.696146</td>\n",
       "      <td>0.506605</td>\n",
       "      <td>0.145118</td>\n",
       "      <td>0.153264</td>\n",
       "      <td>0.397315</td>\n",
       "      <td>0.270891</td>\n",
       "      <td>0.464389</td>\n",
       "      <td>0.451516</td>\n",
       "      <td>...</td>\n",
       "      <td>0.174047</td>\n",
       "      <td>0.609233</td>\n",
       "      <td>0.601723</td>\n",
       "      <td>0.706776</td>\n",
       "      <td>0.555686</td>\n",
       "      <td>0.451440</td>\n",
       "      <td>0.328276</td>\n",
       "      <td>0.505707</td>\n",
       "      <td>0.372067</td>\n",
       "      <td>0.374635</td>\n",
       "    </tr>\n",
       "    <tr>\n",
       "      <th>Cell_line_1313</th>\n",
       "      <td>0.739399</td>\n",
       "      <td>0.848141</td>\n",
       "      <td>0.816588</td>\n",
       "      <td>0.367020</td>\n",
       "      <td>0.350444</td>\n",
       "      <td>0.488170</td>\n",
       "      <td>0.249368</td>\n",
       "      <td>0.508078</td>\n",
       "      <td>0.530659</td>\n",
       "      <td>0.471021</td>\n",
       "      <td>...</td>\n",
       "      <td>0.590641</td>\n",
       "      <td>0.160733</td>\n",
       "      <td>0.794895</td>\n",
       "      <td>0.922322</td>\n",
       "      <td>NaN</td>\n",
       "      <td>0.711083</td>\n",
       "      <td>0.043704</td>\n",
       "      <td>0.418627</td>\n",
       "      <td>1.241907</td>\n",
       "      <td>0.659767</td>\n",
       "    </tr>\n",
       "    <tr>\n",
       "      <th>Cell_line_1466</th>\n",
       "      <td>0.169043</td>\n",
       "      <td>0.018434</td>\n",
       "      <td>0.883922</td>\n",
       "      <td>0.268233</td>\n",
       "      <td>0.203295</td>\n",
       "      <td>0.444701</td>\n",
       "      <td>0.781846</td>\n",
       "      <td>0.532645</td>\n",
       "      <td>0.698188</td>\n",
       "      <td>0.394066</td>\n",
       "      <td>...</td>\n",
       "      <td>0.560850</td>\n",
       "      <td>0.063921</td>\n",
       "      <td>0.889995</td>\n",
       "      <td>0.669653</td>\n",
       "      <td>0.785880</td>\n",
       "      <td>0.621090</td>\n",
       "      <td>0.479943</td>\n",
       "      <td>0.054497</td>\n",
       "      <td>0.312457</td>\n",
       "      <td>NaN</td>\n",
       "    </tr>\n",
       "    <tr>\n",
       "      <th>Cell_line_1561</th>\n",
       "      <td>0.504186</td>\n",
       "      <td>0.566754</td>\n",
       "      <td>0.771644</td>\n",
       "      <td>NaN</td>\n",
       "      <td>0.489046</td>\n",
       "      <td>NaN</td>\n",
       "      <td>0.880204</td>\n",
       "      <td>0.362771</td>\n",
       "      <td>NaN</td>\n",
       "      <td>0.663095</td>\n",
       "      <td>...</td>\n",
       "      <td>NaN</td>\n",
       "      <td>0.290345</td>\n",
       "      <td>0.547615</td>\n",
       "      <td>0.697376</td>\n",
       "      <td>0.692596</td>\n",
       "      <td>0.613503</td>\n",
       "      <td>0.358751</td>\n",
       "      <td>0.601783</td>\n",
       "      <td>0.527645</td>\n",
       "      <td>0.747867</td>\n",
       "    </tr>\n",
       "    <tr>\n",
       "      <th>Cell_line_272</th>\n",
       "      <td>0.328387</td>\n",
       "      <td>0.689907</td>\n",
       "      <td>0.576405</td>\n",
       "      <td>0.433138</td>\n",
       "      <td>0.032261</td>\n",
       "      <td>0.285680</td>\n",
       "      <td>NaN</td>\n",
       "      <td>0.368741</td>\n",
       "      <td>0.142129</td>\n",
       "      <td>0.612768</td>\n",
       "      <td>...</td>\n",
       "      <td>0.747271</td>\n",
       "      <td>0.270783</td>\n",
       "      <td>0.346372</td>\n",
       "      <td>0.906708</td>\n",
       "      <td>0.731535</td>\n",
       "      <td>0.618064</td>\n",
       "      <td>0.253204</td>\n",
       "      <td>0.868046</td>\n",
       "      <td>0.607250</td>\n",
       "      <td>0.246423</td>\n",
       "    </tr>\n",
       "  </tbody>\n",
       "</table>\n",
       "<p>5 rows × 67 columns</p>\n",
       "</div>"
      ],
      "text/plain": [
       "                Protein_0  Protein_1  Protein_2  Protein_3  Protein_4  \\\n",
       "Cell_line_1479   0.038517   0.185333   0.696146   0.506605   0.145118   \n",
       "Cell_line_1313   0.739399   0.848141   0.816588   0.367020   0.350444   \n",
       "Cell_line_1466   0.169043   0.018434   0.883922   0.268233   0.203295   \n",
       "Cell_line_1561   0.504186   0.566754   0.771644        NaN   0.489046   \n",
       "Cell_line_272    0.328387   0.689907   0.576405   0.433138   0.032261   \n",
       "\n",
       "                Protein_5  Protein_6  Protein_7  Protein_8  Protein_9  ...  \\\n",
       "Cell_line_1479   0.153264   0.397315   0.270891   0.464389   0.451516  ...   \n",
       "Cell_line_1313   0.488170   0.249368   0.508078   0.530659   0.471021  ...   \n",
       "Cell_line_1466   0.444701   0.781846   0.532645   0.698188   0.394066  ...   \n",
       "Cell_line_1561        NaN   0.880204   0.362771        NaN   0.663095  ...   \n",
       "Cell_line_272    0.285680        NaN   0.368741   0.142129   0.612768  ...   \n",
       "\n",
       "                Protein_57  Protein_58  Protein_59  Protein_60  Protein_61  \\\n",
       "Cell_line_1479    0.174047    0.609233    0.601723    0.706776    0.555686   \n",
       "Cell_line_1313    0.590641    0.160733    0.794895    0.922322         NaN   \n",
       "Cell_line_1466    0.560850    0.063921    0.889995    0.669653    0.785880   \n",
       "Cell_line_1561         NaN    0.290345    0.547615    0.697376    0.692596   \n",
       "Cell_line_272     0.747271    0.270783    0.346372    0.906708    0.731535   \n",
       "\n",
       "                Protein_62  Protein_63  Protein_64  Protein_65  Protein_66  \n",
       "Cell_line_1479    0.451440    0.328276    0.505707    0.372067    0.374635  \n",
       "Cell_line_1313    0.711083    0.043704    0.418627    1.241907    0.659767  \n",
       "Cell_line_1466    0.621090    0.479943    0.054497    0.312457         NaN  \n",
       "Cell_line_1561    0.613503    0.358751    0.601783    0.527645    0.747867  \n",
       "Cell_line_272     0.618064    0.253204    0.868046    0.607250    0.246423  \n",
       "\n",
       "[5 rows x 67 columns]"
      ]
     },
     "metadata": {},
     "output_type": "display_data"
    }
   ],
   "source": [
    "print(\"Proteomics DataFrame:\")\n",
    "display(proteomics_df.head())"
   ]
  },
  {
   "cell_type": "markdown",
   "metadata": {},
   "source": [
    "#### Part 1: Initial Data Analysis"
   ]
  },
  {
   "cell_type": "markdown",
   "metadata": {},
   "source": [
    "This part contains 5 main steps to conduct an analysis of the three datasets, to get an overview of the data that we will deal with.\n",
    "\n",
    "**Note**: Steps were adapted from the Lecture 2 - Slide 26 of the course."
   ]
  },
  {
   "cell_type": "markdown",
   "metadata": {},
   "source": [
    "##### 1.1. Topic"
   ]
  },
  {
   "cell_type": "markdown",
   "metadata": {},
   "source": [
    "##### 1.2. Data Cleaning"
   ]
  },
  {
   "cell_type": "markdown",
   "metadata": {},
   "source": [
    "##### 1.3. Dataset Size and Structure"
   ]
  },
  {
   "cell_type": "markdown",
   "metadata": {},
   "source": [
    "##### 1.4. Handling Missing Values"
   ]
  },
  {
   "cell_type": "markdown",
   "metadata": {},
   "source": [
    "##### 1.5. Visualization"
   ]
  },
  {
   "cell_type": "code",
   "execution_count": null,
   "metadata": {},
   "outputs": [],
   "source": []
  },
  {
   "cell_type": "markdown",
   "metadata": {},
   "source": [
    "#### Part 2: Data Preparation"
   ]
  },
  {
   "cell_type": "markdown",
   "metadata": {},
   "source": [
    "#### Part 3: Multi-Head Attention Network"
   ]
  },
  {
   "cell_type": "markdown",
   "metadata": {},
   "source": [
    "#### Part 4: Simple Neural Network"
   ]
  },
  {
   "cell_type": "markdown",
   "metadata": {},
   "source": [
    "#### Part 5: Evaluation of results"
   ]
  }
 ],
 "metadata": {
  "kernelspec": {
   "display_name": "virtual_env",
   "language": "python",
   "name": "python3"
  },
  "language_info": {
   "codemirror_mode": {
    "name": "ipython",
    "version": 3
   },
   "file_extension": ".py",
   "mimetype": "text/x-python",
   "name": "python",
   "nbconvert_exporter": "python",
   "pygments_lexer": "ipython3",
   "version": "3.12.0"
  }
 },
 "nbformat": 4,
 "nbformat_minor": 2
}
